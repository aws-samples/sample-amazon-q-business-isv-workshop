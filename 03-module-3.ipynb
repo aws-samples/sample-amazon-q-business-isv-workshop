{
 "cells": [
  {
   "cell_type": "markdown",
   "metadata": {},
   "source": [
    "# Module 3 - Amazon Q cross-app Using filters with your index\n",
    "\n",
    "### Use Amazon Q Business cross-app index to search relevant content\n",
    "\n",
    "In this module, we will call the Amazon Q Business `search_relevant_content` API with various filters to perform a refined search. This search is useful for building more targeted Retrieval Augmented Generation (RAG) based generative results. We will review and compare the response of the API which will return textual chunks of relevant data with filter criteria applied.\n",
    "\n",
    "<div class=\"alert alert-block alert-warning\"> <b>IMPORTANT:</b> Please make sure that you select <b>\"Python 3 (ipykernel)\"</b> kernel for this notebook from the top right corner, if one is not selected already. </div>\n",
    "\n",
    "<div class=\"alert alert-block alert-info\"> <b>INFORMATION:</b> If you have just completed module 2 in this workshop then you can skip this step 1.<br>\n",
    "If you have not completed module 2 then let's install some pre-requisites. Run the following code-block.</div>\n",
    "\n",
    "# Step 1"
   ]
  },
  {
   "cell_type": "code",
   "execution_count": null,
   "metadata": {
    "scrolled": true,
    "tags": []
   },
   "outputs": [],
   "source": [
    "!python -m pip install boto3"
   ]
  },
  {
   "cell_type": "markdown",
   "metadata": {},
   "source": [
    "## Step 2\n",
    "For some of the API calls used in this notebook, we will need to know the following pieces of information for the Amazon Q Business application.  \n",
    "\n",
    "- The application ID  \n",
    "- The retriever ID  \n",
    "- The index ID  \n",
    "\n",
    "The following code will call Amazon Q Business APIs to fetch these values."
   ]
  },
  {
   "cell_type": "code",
   "execution_count": null,
   "metadata": {},
   "outputs": [],
   "source": [
    "import boto3\n",
    "\n",
    "q_business_client = boto3.client('qbusiness')\n",
    "response_app = q_business_client.list_applications()\n",
    "\n",
    "# Fetch the Q Business App ID, Retriever ID and Index ID\n",
    "Q_BIZ_APP_ID = \"\"\n",
    "Q_RETRIEVER_ID = \"\"\n",
    "Q_INDEX_ID = \"\"\n",
    "\n",
    "\n",
    "for r in response_app[\"applications\"]:\n",
    "    if 'aim333-module-2' in r['displayName']:\n",
    "        Q_BIZ_APP_ID=r['applicationId']\n",
    "\n",
    "if Q_BIZ_APP_ID:\n",
    "    response_ret = q_business_client.list_retrievers(applicationId=Q_BIZ_APP_ID)\n",
    "    Q_RETRIEVER_ID = response_ret['retrievers'][0]['retrieverId']\n",
    "\n",
    "if Q_RETRIEVER_ID:\n",
    "    response_index = q_business_client.list_indices(applicationId=Q_BIZ_APP_ID)\n",
    "    Q_INDEX_ID = response_index['indices'][0]['indexId']\n",
    "\n",
    "print(f\"Application ID is: {Q_BIZ_APP_ID}\\nRetriever ID is: {Q_RETRIEVER_ID}\\nIndex ID ID is: {Q_INDEX_ID}\")"
   ]
  },
  {
   "cell_type": "markdown",
   "metadata": {},
   "source": [
    "# Step 3\n",
    "This notebook is going to walk us through on how to leverage the Search Relevant Content API using filters.\n",
    "When calling the SRC API we can specify which document attributes we would like to filter on. Every document has structural attributes or meta data attached to it. Document attributes can include information such as document title, document author, time created, document type, etc.\n",
    "In this notebook we are going to create a new custom document attribute called Department and update our meta JSON files associated with the sample documents by adding this attribute.\n",
    "Lets first start by displaying a document sample meta file that we have in our S3 bucket.\n",
    "Within our workshop test account we have a bucket called s3://amazon-q-data-source-############, which contains fictious support ticket PDF files along with their associated meta files.<br>\n",
    "The following code will list some of these meta file names.\n",
    "\n"
   ]
  },
  {
   "cell_type": "code",
   "execution_count": null,
   "metadata": {},
   "outputs": [],
   "source": [
    "import json\n",
    "import sagemaker\n",
    "\n",
    "role = sagemaker.get_execution_role()\n",
    "account_id = role.split(':')[4]\n",
    "\n",
    "bucket_name_tickets = f'amazon-q-data-source-{account_id}'\n",
    "s3_client = boto3.client('s3')\n",
    "# Get list of meta data file objects in bucket\n",
    "paginator = s3_client.get_paginator('list_objects_v2')\n",
    "files = []\n",
    "\n",
    "for page in paginator.paginate(Bucket=bucket_name_tickets):\n",
    "    if 'Contents' in page:\n",
    "        for obj in page['Contents']:\n",
    "            if obj['Key'].startswith('ticket') and obj['Key'].endswith('metadata.json'):\n",
    "                files.append(obj['Key'])\n",
    "# Display file names\n",
    "print(json.dumps(files[:3], indent=4))"
   ]
  },
  {
   "cell_type": "markdown",
   "metadata": {},
   "source": [
    "As you can see these meta files in S3 follow a certain naming convention <b>filename.metadata.json</b> <br>\n",
    "For example ticket_0.pdf has an associated meta file called ticket_0.pdf.metdata.json in the same directory.\n",
    "\n",
    "Lets look at the content of one of these meta JSON files."
   ]
  },
  {
   "cell_type": "code",
   "execution_count": null,
   "metadata": {},
   "outputs": [],
   "source": [
    "# Read and parse a JSON file from S3\n",
    "response = s3_client.get_object(Bucket=bucket_name_tickets, Key=files[0])\n",
    "print(json.dumps(json.loads(response['Body'].read().decode('utf-8')),indent=4))"
   ]
  },
  {
   "cell_type": "markdown",
   "metadata": {},
   "source": [
    "# Step 4\n",
    "The meta JSON file contains a section called Attributes.  \n",
    "<div class=\"alert alert-block alert-info\"> <b>INFORMATION:</b> We modifed the value in the reserved attribute <b>_source_url</b> to point at a public version of this document. This gets surfaced as the citation link.</div>\n",
    "We are going to create a new custom attribute called Department.\n",
    "The following script will enumerate over all the meta files in our S3 bucket, modifying each by adding the attribute <b>Department</b> and randomly assigning it to HR or Finance.\n"
   ]
  },
  {
   "cell_type": "code",
   "execution_count": null,
   "metadata": {},
   "outputs": [],
   "source": [
    "import random\n",
    "for file_key in files:\n",
    "    response = s3_client.get_object(Bucket=bucket_name_tickets, Key=file_key)\n",
    "    json_content = json.loads(response['Body'].read().decode('utf-8'))\n",
    "    if random.randint(1,2)== 1 :\n",
    "        json_content['Attributes']['Department'] = 'HR'\n",
    "    else:\n",
    "        json_content['Attributes']['Department'] = 'Finance'\n",
    "    # Upload the updated JSON back to S3\n",
    "    s3_client.put_object(Bucket=bucket_name_tickets,Key=file_key,Body=json.dumps(json_content))\n",
    "\n",
    "# Lets print the contents again\n",
    "response = s3_client.get_object(Bucket=bucket_name_tickets, Key=files[0])\n",
    "print(json.dumps(json.loads(response['Body'].read().decode('utf-8')),indent=4))\n",
    "\n",
    "print(f\"{len(files)} Meta files updated\")"
   ]
  },
  {
   "cell_type": "markdown",
   "metadata": {},
   "source": [
    "Lets recap what we have done so far.\n",
    "1. We retrieved our Q Business Application ID, Retriever ID and Index ID.\n",
    "1. We viewed some meta data JSON files that are associated with our documents.\n",
    "2. We enumerated over all our document meta files and added a new attribute called Department to each, and randomly set it to either HR or Finance.\n",
    "\n",
    "Now its time to test calling the search relative content API using Department as a filter.  \n",
    "Before we test, we need to run and resync the S3 data connector. Head back to our Q Business application aim333-module-2 console, select the S3DataSource, and click on sync now and observe the status. This will take a few minutes to complete. When sync is complete we can proceed to the next step."
   ]
  },
  {
   "cell_type": "markdown",
   "metadata": {},
   "source": [
    "# Step 5\n",
    "#### Pre-requisites for Identity Aware API call.\n",
    " \n",
    "In order to be able to call Amazon Q Business's data APIs, we will need to acquire credentials that are tagged to a specific user id (in this case, an email address). We have pre-deployed a mechanism that will help generate this credentials with a helper function. First we will need to acquire some necessary details that will help us generate the identity-aware SigV4 AWS credentials. Specifically, we will require the following details.\n",
    " \n",
    "- `issuer`: the issuer URL\n",
    "- `client_id`: a client_id for the OIDC client\n",
    "- `client_secret`: a client_secret for the OIDC client\n",
    "- `role_arn`: the IAM role to assume, this is the role that has Amazon Q Business permissions\n",
    "- `region`: `us-east-1` this is the current region where our Amazon Q Business Application is setup \n",
    "- `email`: your email address (can be a fictional email address of the format user@email.com)\n",
    " \n",
    "To obtain the values, execute the next code cell which will read a JSON file from an S3 bucket. "
   ]
  },
  {
   "cell_type": "code",
   "execution_count": null,
   "metadata": {},
   "outputs": [],
   "source": [
    "s3_client = boto3.client('s3')\n",
    "role = sagemaker.get_execution_role()\n",
    "account_id = role.split(':')[4]\n",
    "bucket_name = f'amazon-q-tvm-{account_id}'\n",
    "file_key = 'tvm_values.json'\n",
    "\n",
    "response = s3_client.get_object(Bucket=bucket_name, Key=file_key)\n",
    "creds = json.loads(response['Body'].read().decode('utf-8'))[\"TVMOidcIssuerStack\"]\n",
    "creds[\"IssuerUrlOutput\"] = creds[\"IssuerUrlOutput\"].rstrip('/')"
   ]
  },
  {
   "cell_type": "markdown",
   "metadata": {},
   "source": [
    "Lets get our identity aware credentials"
   ]
  },
  {
   "cell_type": "code",
   "execution_count": null,
   "metadata": {
    "tags": []
   },
   "outputs": [],
   "source": [
    "from utils.tvm_client import TVMClient\n",
    "\n",
    "email_address = \"john_doe@email.com\"\n",
    "\n",
    "token_client = TVMClient(\n",
    "        issuer=creds[\"IssuerUrlOutput\"],\n",
    "        client_id=creds[\"QbizTVMClientID\"],\n",
    "        client_secret=creds[\"QbizTVMClientSecret\"],\n",
    "        role_arn=creds[\"QBizAssumeRoleARN\"],\n",
    "        region=\"us-east-1\"\n",
    ")\n",
    "\n",
    "# Get Sigv4 credentials using TVM\n",
    "credentials = token_client.get_sigv4_credentials(email=email_address)\n",
    "qbiz = boto3.client(\"qbusiness\", **credentials)"
   ]
  },
  {
   "cell_type": "markdown",
   "metadata": {},
   "source": [
    "## Step 6\n",
    "Lets run some queries."
   ]
  },
  {
   "cell_type": "code",
   "execution_count": null,
   "metadata": {},
   "outputs": [],
   "source": [
    "#myQuestion = \"What are the reasons for keyboard failures?\"\n",
    "myQuestion = \"What is the remediation of password not working?\""
   ]
  },
  {
   "cell_type": "markdown",
   "metadata": {},
   "source": [
    "Let's test this client by calling the `search_relevant_content` API `without filtering` first."
   ]
  },
  {
   "cell_type": "code",
   "execution_count": null,
   "metadata": {
    "scrolled": true,
    "tags": []
   },
   "outputs": [],
   "source": [
    "qbiz = boto3.client(\"qbusiness\", region_name=\"us-east-1\", **credentials)\n",
    "\n",
    "\n",
    "search_params = {'applicationId': Q_BIZ_APP_ID,\n",
    "    'contentSource': {\n",
    "        'retriever': {\n",
    "            'retrieverId': Q_RETRIEVER_ID\n",
    "            }\n",
    "    },\n",
    "    'queryText': myQuestion,\n",
    "    'maxResults': 5\n",
    "}\n",
    "\n",
    "\n",
    "def call_search_relevant_content(search_params):\n",
    "    try:\n",
    "        search_response = qbiz.search_relevant_content(**search_params)\n",
    "        return search_response['relevantContent']\n",
    "    except Exception as e:\n",
    "        print(e)\n",
    "\n",
    "\n",
    "relevant_content = call_search_relevant_content(search_params)"
   ]
  },
  {
   "cell_type": "code",
   "execution_count": null,
   "metadata": {},
   "outputs": [],
   "source": [
    "full_context = \"\"\n",
    "count=0\n",
    "\n",
    "for chunks in relevant_content:\n",
    "    full_context = full_context + chunks['content'] + \"\\n\"\n",
    "    count = count + 1\n",
    "\n",
    "print(f\"{count}  Chunks of relevant content was retrieved from the Search Relevant Content API \\n\")\n",
    "print(\"The full context is:- \\n\")\n",
    "print(full_context)"
   ]
  },
  {
   "cell_type": "code",
   "execution_count": null,
   "metadata": {},
   "outputs": [],
   "source": [
    "modelId = 'anthropic.claude-3-5-sonnet-20240620-v1:0'\n",
    "bedrock_client = boto3.client('bedrock-runtime', region_name='us-west-2')"
   ]
  },
  {
   "cell_type": "code",
   "execution_count": null,
   "metadata": {},
   "outputs": [],
   "source": [
    "def bedrockConverse(query, context, model):\n",
    "    SYSTEM_PROMPT=\"\"\"\"\n",
    "    You are a helpful AI assistant who answers question correctly and accurately about a AcmeCompany's IT tickets. Do not makeup answers and only answer from the provided knowledge.\n",
    "    \"\"\"\n",
    "    messages = [{\"role\": \"user\", \"content\": [{\"text\": f\"Given the full context: {context}\\n\\nAnswer this question accurately: {query}\"}]}]\n",
    "    converse_params = {\n",
    "        \"modelId\": model,\n",
    "        \"messages\": messages,\n",
    "        \"system\": [{\"text\": SYSTEM_PROMPT}]\n",
    "    }\n",
    "    ai_response = bedrock_client.converse(**converse_params)\n",
    "    return ai_response['output']['message']['content'][0]['text']"
   ]
  },
  {
   "cell_type": "code",
   "execution_count": null,
   "metadata": {},
   "outputs": [],
   "source": [
    "print(bedrockConverse(myQuestion, full_context, modelId))"
   ]
  },
  {
   "cell_type": "markdown",
   "metadata": {},
   "source": [
    "Now let's try this again, this time we will be calling the `search_relevant_content` API with filtering. We will use the `attributesFilter` `equalsTo` filter to search for documents with a specific attribute value of <b>HR</b>.  \n",
    "Note attribute filter name is case sensitive.  \n",
    "[For information on this API click here to see Boto3 SDK documentation](https://boto3.amazonaws.com/v1/documentation/api/latest/reference/services/qbusiness/client/search_relevant_content.html#:~:text=all%20supplied%20filters.-,equalsTo,-(dict)%20%E2%80%93)"
   ]
  },
  {
   "cell_type": "code",
   "execution_count": null,
   "metadata": {},
   "outputs": [],
   "source": [
    "search_params = {\n",
    "    'applicationId': Q_BIZ_APP_ID,\n",
    "    'contentSource': {\n",
    "        'retriever': {\n",
    "            'retrieverId': Q_RETRIEVER_ID\n",
    "            }\n",
    "    },\n",
    "    'queryText': myQuestion,\n",
    "    'maxResults': 5,\n",
    "    'attributeFilter': {\n",
    "        'equalsTo': {\n",
    "            'name': 'Department',\n",
    "            'value': {\n",
    "                'stringValue': 'HR'\n",
    "            }\n",
    "        }\n",
    "    }\n",
    "}\n",
    "\n",
    "relevant_content = call_search_relevant_content(search_params)"
   ]
  },
  {
   "cell_type": "code",
   "execution_count": null,
   "metadata": {},
   "outputs": [],
   "source": [
    "full_context = \"\"\n",
    "count = 0\n",
    "for chunks in relevant_content:\n",
    "    full_context = full_context + chunks['content'] + \"\\n\"\n",
    "    count = count + 1\n",
    "\n",
    "print(f\"{count}  Chunks of relevant content was retrieved from the Search Relevant Content API \\n\")\n",
    "print(\"The full context is:- \\n\")\n",
    "print(full_context)"
   ]
  },
  {
   "cell_type": "markdown",
   "metadata": {},
   "source": [
    "You can now compare the chunks retrieved with the filter and what was retrieved before applying the filter and see the difference."
   ]
  },
  {
   "cell_type": "code",
   "execution_count": null,
   "metadata": {},
   "outputs": [],
   "source": [
    "print(bedrockConverse(myQuestion, full_context, modelId))"
   ]
  },
  {
   "cell_type": "markdown",
   "metadata": {},
   "source": [
    "As you can see the results differ from our previous request where no filtering was applied. Lets apply the department filter of Finance."
   ]
  },
  {
   "cell_type": "code",
   "execution_count": null,
   "metadata": {},
   "outputs": [],
   "source": [
    "search_params = {\n",
    "    'applicationId': Q_BIZ_APP_ID,\n",
    "    'contentSource': {\n",
    "        'retriever': {\n",
    "            'retrieverId': Q_RETRIEVER_ID\n",
    "            }\n",
    "    },\n",
    "    'queryText': myQuestion,\n",
    "    'maxResults': 5,\n",
    "    'attributeFilter': {\n",
    "        'equalsTo': {\n",
    "            'name': 'Department',\n",
    "            'value': {\n",
    "                'stringValue': 'Finance'\n",
    "            }\n",
    "        }\n",
    "    }\n",
    "}\n",
    "\n",
    "relevant_content = call_search_relevant_content(search_params)"
   ]
  },
  {
   "cell_type": "code",
   "execution_count": null,
   "metadata": {},
   "outputs": [],
   "source": [
    "full_context = \"\"\n",
    "count=0\n",
    "\n",
    "for chunks in relevant_content:\n",
    "    full_context = full_context + chunks['content'] + \"\\n\"\n",
    "    count = count + 1\n",
    "\n",
    "print(f\"{count}  Chunks of relevant content was retrieved from the Search Relevant Content API \\n\")\n",
    "print(\"The full context is:- \\n\")\n",
    "print(full_context)"
   ]
  },
  {
   "cell_type": "code",
   "execution_count": null,
   "metadata": {},
   "outputs": [],
   "source": [
    "print(bedrockConverse(myQuestion, full_context, modelId))"
   ]
  },
  {
   "cell_type": "markdown",
   "metadata": {},
   "source": [
    "## Step 7\n",
    "So now that we have demonstrated how to apply filtering at the API level using document attributes, lets cover one more aspect of document attributes and how they can be made part of the index, and searchable through queries.  \n",
    "To do that we need to create this custom attribute on our Q Index under metadata controls which will ultimately be populated with this document attribute value during ingestion and made searchable.  \n",
    "We will do this programtically next by calling the update index API and adding the Deparment attribute as searchable. Note this can also be done via the Q Business console under the section Metadata controls.  \n",
    "<div class=\"alert alert-block alert-info\"> <b>INFORMATION:</b> Any data source can populate this Q Index custom attribute during syncing with the correct field mapping.</div>"
   ]
  },
  {
   "cell_type": "code",
   "execution_count": null,
   "metadata": {},
   "outputs": [],
   "source": [
    "# add the new attribute 'Department' name to the Index\n",
    "response = q_business_client.update_index(\n",
    "    applicationId=Q_BIZ_APP_ID,\n",
    "    indexId=Q_INDEX_ID,\n",
    "    documentAttributeConfigurations=[\n",
    "        {\n",
    "            'name': 'Department',\n",
    "            'type': 'STRING',\n",
    "            'search': 'ENABLED'\n",
    "        },\n",
    "    ]\n",
    ")"
   ]
  },
  {
   "cell_type": "markdown",
   "metadata": {},
   "source": [
    "# Step 8\n",
    "With our Q Index now containing the new custom attribute 'Department', we now need to update our S3 data connector with this custom attribute field mapping. This will enable the S3 data connector during ingestion to map the attribute in our meta JSON file to this custom Q Index attribute. <br>The following code will display the current S3 data connector settings.  \n",
    "  \n",
    "To add the new field mapping to our S3 data connector, we are going to head back to the console and make the change there. For guidance refer back to the workshop documentation, Module 3, Amazon Q Index With Filters, step 8.  \n",
    "<div class=\"alert alert-block alert-info\"> <b>INFORMATION:</b> Please switch to the console to modify S3 data connector.</div>"
   ]
  },
  {
   "cell_type": "code",
   "execution_count": null,
   "metadata": {},
   "outputs": [],
   "source": [
    "# Fetch a list of data sources that our Q Business Index has\n",
    "response = q_business_client.list_data_sources(\n",
    "    applicationId=Q_BIZ_APP_ID,\n",
    "    indexId=Q_INDEX_ID\n",
    ")\n",
    "\n",
    "# Select the specific data source. In our case we will select the S3 datasource that has been created as part of the workshop.\n",
    "Q_DATASOURCE_ID = ''\n",
    "for dataSource in response['dataSources']:\n",
    "    if dataSource['type'] in 'S3':\n",
    "        Q_DATASOURCE_ID = dataSource['dataSourceId']\n",
    "        print(f\"S3 Data Source found with ID {Q_DATASOURCE_ID}\")\n",
    "\n",
    "# lets take a look at our current configuration for the S3 data connector\n",
    "response = q_business_client.get_data_source(\n",
    "    applicationId=Q_BIZ_APP_ID,\n",
    "    indexId=Q_INDEX_ID,\n",
    "    dataSourceId=Q_DATASOURCE_ID\n",
    ")\n",
    "\n",
    "\n",
    "print(json.dumps(response['configuration'], indent=4))"
   ]
  },
  {
   "cell_type": "markdown",
   "metadata": {},
   "source": [
    "<div class=\"alert alert-block alert-info\"> <b>INFORMATION:</b> Please consult workshop documentation on adding a field mapping to a data source from the console.</div>"
   ]
  },
  {
   "cell_type": "markdown",
   "metadata": {},
   "source": [
    "Now that we have made this attribute searchable, you can run a new query against the Search Relevant Content API and include the attribute name or value in your query. Refer to Step 6 in this notebook to run a query."
   ]
  },
  {
   "cell_type": "markdown",
   "metadata": {},
   "source": [
    "# Conclusion\n",
    "---\n",
    "\n",
    "In this module we learnt how to call `SearchRelevantContent` API and apply filtering. In our example we created a new custom attribute called Department and inserted that into our S3 document meta files.\n",
    "\n",
    "The search_relevant_content API in Amazon Q Business allows users to filter search results based on various document attributes or metadata fields. Filters can be applied using logical operations such as andAllFilters, orAllFilters, and notFilter. Specific filter types include equalsTo, containsAll, containsAny, greaterThan, greaterThanOrEquals, lessThan, and lessThanOrEquals. These filters support different attribute value types like stringValue, stringListValue, longValue, and dateValue. By applying these filters, users can refine their search to return only the most relevant content items, enhancing the precision and relevance of the search results.  \n",
    "[For more information on this API click here to see Boto3 SDK documentation](https://boto3.amazonaws.com/v1/documentation/api/latest/reference/services/qbusiness/client/search_relevant_content.html#:~:text=all%20supplied%20filters.-,equalsTo,-(dict)%20%E2%80%93)\n",
    "\n",
    "This concludes our workshop! Thanks for joining us and please take a moment to fill out the Survey for Session"
   ]
  }
 ],
 "metadata": {
  "availableInstances": [
   {
    "_defaultOrder": 0,
    "_isFastLaunch": true,
    "category": "General purpose",
    "gpuNum": 0,
    "hideHardwareSpecs": false,
    "memoryGiB": 4,
    "name": "ml.t3.medium",
    "vcpuNum": 2
   },
   {
    "_defaultOrder": 1,
    "_isFastLaunch": false,
    "category": "General purpose",
    "gpuNum": 0,
    "hideHardwareSpecs": false,
    "memoryGiB": 8,
    "name": "ml.t3.large",
    "vcpuNum": 2
   },
   {
    "_defaultOrder": 2,
    "_isFastLaunch": false,
    "category": "General purpose",
    "gpuNum": 0,
    "hideHardwareSpecs": false,
    "memoryGiB": 16,
    "name": "ml.t3.xlarge",
    "vcpuNum": 4
   },
   {
    "_defaultOrder": 3,
    "_isFastLaunch": false,
    "category": "General purpose",
    "gpuNum": 0,
    "hideHardwareSpecs": false,
    "memoryGiB": 32,
    "name": "ml.t3.2xlarge",
    "vcpuNum": 8
   },
   {
    "_defaultOrder": 4,
    "_isFastLaunch": true,
    "category": "General purpose",
    "gpuNum": 0,
    "hideHardwareSpecs": false,
    "memoryGiB": 8,
    "name": "ml.m5.large",
    "vcpuNum": 2
   },
   {
    "_defaultOrder": 5,
    "_isFastLaunch": false,
    "category": "General purpose",
    "gpuNum": 0,
    "hideHardwareSpecs": false,
    "memoryGiB": 16,
    "name": "ml.m5.xlarge",
    "vcpuNum": 4
   },
   {
    "_defaultOrder": 6,
    "_isFastLaunch": false,
    "category": "General purpose",
    "gpuNum": 0,
    "hideHardwareSpecs": false,
    "memoryGiB": 32,
    "name": "ml.m5.2xlarge",
    "vcpuNum": 8
   },
   {
    "_defaultOrder": 7,
    "_isFastLaunch": false,
    "category": "General purpose",
    "gpuNum": 0,
    "hideHardwareSpecs": false,
    "memoryGiB": 64,
    "name": "ml.m5.4xlarge",
    "vcpuNum": 16
   },
   {
    "_defaultOrder": 8,
    "_isFastLaunch": false,
    "category": "General purpose",
    "gpuNum": 0,
    "hideHardwareSpecs": false,
    "memoryGiB": 128,
    "name": "ml.m5.8xlarge",
    "vcpuNum": 32
   },
   {
    "_defaultOrder": 9,
    "_isFastLaunch": false,
    "category": "General purpose",
    "gpuNum": 0,
    "hideHardwareSpecs": false,
    "memoryGiB": 192,
    "name": "ml.m5.12xlarge",
    "vcpuNum": 48
   },
   {
    "_defaultOrder": 10,
    "_isFastLaunch": false,
    "category": "General purpose",
    "gpuNum": 0,
    "hideHardwareSpecs": false,
    "memoryGiB": 256,
    "name": "ml.m5.16xlarge",
    "vcpuNum": 64
   },
   {
    "_defaultOrder": 11,
    "_isFastLaunch": false,
    "category": "General purpose",
    "gpuNum": 0,
    "hideHardwareSpecs": false,
    "memoryGiB": 384,
    "name": "ml.m5.24xlarge",
    "vcpuNum": 96
   },
   {
    "_defaultOrder": 12,
    "_isFastLaunch": false,
    "category": "General purpose",
    "gpuNum": 0,
    "hideHardwareSpecs": false,
    "memoryGiB": 8,
    "name": "ml.m5d.large",
    "vcpuNum": 2
   },
   {
    "_defaultOrder": 13,
    "_isFastLaunch": false,
    "category": "General purpose",
    "gpuNum": 0,
    "hideHardwareSpecs": false,
    "memoryGiB": 16,
    "name": "ml.m5d.xlarge",
    "vcpuNum": 4
   },
   {
    "_defaultOrder": 14,
    "_isFastLaunch": false,
    "category": "General purpose",
    "gpuNum": 0,
    "hideHardwareSpecs": false,
    "memoryGiB": 32,
    "name": "ml.m5d.2xlarge",
    "vcpuNum": 8
   },
   {
    "_defaultOrder": 15,
    "_isFastLaunch": false,
    "category": "General purpose",
    "gpuNum": 0,
    "hideHardwareSpecs": false,
    "memoryGiB": 64,
    "name": "ml.m5d.4xlarge",
    "vcpuNum": 16
   },
   {
    "_defaultOrder": 16,
    "_isFastLaunch": false,
    "category": "General purpose",
    "gpuNum": 0,
    "hideHardwareSpecs": false,
    "memoryGiB": 128,
    "name": "ml.m5d.8xlarge",
    "vcpuNum": 32
   },
   {
    "_defaultOrder": 17,
    "_isFastLaunch": false,
    "category": "General purpose",
    "gpuNum": 0,
    "hideHardwareSpecs": false,
    "memoryGiB": 192,
    "name": "ml.m5d.12xlarge",
    "vcpuNum": 48
   },
   {
    "_defaultOrder": 18,
    "_isFastLaunch": false,
    "category": "General purpose",
    "gpuNum": 0,
    "hideHardwareSpecs": false,
    "memoryGiB": 256,
    "name": "ml.m5d.16xlarge",
    "vcpuNum": 64
   },
   {
    "_defaultOrder": 19,
    "_isFastLaunch": false,
    "category": "General purpose",
    "gpuNum": 0,
    "hideHardwareSpecs": false,
    "memoryGiB": 384,
    "name": "ml.m5d.24xlarge",
    "vcpuNum": 96
   },
   {
    "_defaultOrder": 20,
    "_isFastLaunch": false,
    "category": "General purpose",
    "gpuNum": 0,
    "hideHardwareSpecs": true,
    "memoryGiB": 0,
    "name": "ml.geospatial.interactive",
    "supportedImageNames": [
     "sagemaker-geospatial-v1-0"
    ],
    "vcpuNum": 0
   },
   {
    "_defaultOrder": 21,
    "_isFastLaunch": true,
    "category": "Compute optimized",
    "gpuNum": 0,
    "hideHardwareSpecs": false,
    "memoryGiB": 4,
    "name": "ml.c5.large",
    "vcpuNum": 2
   },
   {
    "_defaultOrder": 22,
    "_isFastLaunch": false,
    "category": "Compute optimized",
    "gpuNum": 0,
    "hideHardwareSpecs": false,
    "memoryGiB": 8,
    "name": "ml.c5.xlarge",
    "vcpuNum": 4
   },
   {
    "_defaultOrder": 23,
    "_isFastLaunch": false,
    "category": "Compute optimized",
    "gpuNum": 0,
    "hideHardwareSpecs": false,
    "memoryGiB": 16,
    "name": "ml.c5.2xlarge",
    "vcpuNum": 8
   },
   {
    "_defaultOrder": 24,
    "_isFastLaunch": false,
    "category": "Compute optimized",
    "gpuNum": 0,
    "hideHardwareSpecs": false,
    "memoryGiB": 32,
    "name": "ml.c5.4xlarge",
    "vcpuNum": 16
   },
   {
    "_defaultOrder": 25,
    "_isFastLaunch": false,
    "category": "Compute optimized",
    "gpuNum": 0,
    "hideHardwareSpecs": false,
    "memoryGiB": 72,
    "name": "ml.c5.9xlarge",
    "vcpuNum": 36
   },
   {
    "_defaultOrder": 26,
    "_isFastLaunch": false,
    "category": "Compute optimized",
    "gpuNum": 0,
    "hideHardwareSpecs": false,
    "memoryGiB": 96,
    "name": "ml.c5.12xlarge",
    "vcpuNum": 48
   },
   {
    "_defaultOrder": 27,
    "_isFastLaunch": false,
    "category": "Compute optimized",
    "gpuNum": 0,
    "hideHardwareSpecs": false,
    "memoryGiB": 144,
    "name": "ml.c5.18xlarge",
    "vcpuNum": 72
   },
   {
    "_defaultOrder": 28,
    "_isFastLaunch": false,
    "category": "Compute optimized",
    "gpuNum": 0,
    "hideHardwareSpecs": false,
    "memoryGiB": 192,
    "name": "ml.c5.24xlarge",
    "vcpuNum": 96
   },
   {
    "_defaultOrder": 29,
    "_isFastLaunch": true,
    "category": "Accelerated computing",
    "gpuNum": 1,
    "hideHardwareSpecs": false,
    "memoryGiB": 16,
    "name": "ml.g4dn.xlarge",
    "vcpuNum": 4
   },
   {
    "_defaultOrder": 30,
    "_isFastLaunch": false,
    "category": "Accelerated computing",
    "gpuNum": 1,
    "hideHardwareSpecs": false,
    "memoryGiB": 32,
    "name": "ml.g4dn.2xlarge",
    "vcpuNum": 8
   },
   {
    "_defaultOrder": 31,
    "_isFastLaunch": false,
    "category": "Accelerated computing",
    "gpuNum": 1,
    "hideHardwareSpecs": false,
    "memoryGiB": 64,
    "name": "ml.g4dn.4xlarge",
    "vcpuNum": 16
   },
   {
    "_defaultOrder": 32,
    "_isFastLaunch": false,
    "category": "Accelerated computing",
    "gpuNum": 1,
    "hideHardwareSpecs": false,
    "memoryGiB": 128,
    "name": "ml.g4dn.8xlarge",
    "vcpuNum": 32
   },
   {
    "_defaultOrder": 33,
    "_isFastLaunch": false,
    "category": "Accelerated computing",
    "gpuNum": 4,
    "hideHardwareSpecs": false,
    "memoryGiB": 192,
    "name": "ml.g4dn.12xlarge",
    "vcpuNum": 48
   },
   {
    "_defaultOrder": 34,
    "_isFastLaunch": false,
    "category": "Accelerated computing",
    "gpuNum": 1,
    "hideHardwareSpecs": false,
    "memoryGiB": 256,
    "name": "ml.g4dn.16xlarge",
    "vcpuNum": 64
   },
   {
    "_defaultOrder": 35,
    "_isFastLaunch": false,
    "category": "Accelerated computing",
    "gpuNum": 1,
    "hideHardwareSpecs": false,
    "memoryGiB": 61,
    "name": "ml.p3.2xlarge",
    "vcpuNum": 8
   },
   {
    "_defaultOrder": 36,
    "_isFastLaunch": false,
    "category": "Accelerated computing",
    "gpuNum": 4,
    "hideHardwareSpecs": false,
    "memoryGiB": 244,
    "name": "ml.p3.8xlarge",
    "vcpuNum": 32
   },
   {
    "_defaultOrder": 37,
    "_isFastLaunch": false,
    "category": "Accelerated computing",
    "gpuNum": 8,
    "hideHardwareSpecs": false,
    "memoryGiB": 488,
    "name": "ml.p3.16xlarge",
    "vcpuNum": 64
   },
   {
    "_defaultOrder": 38,
    "_isFastLaunch": false,
    "category": "Accelerated computing",
    "gpuNum": 8,
    "hideHardwareSpecs": false,
    "memoryGiB": 768,
    "name": "ml.p3dn.24xlarge",
    "vcpuNum": 96
   },
   {
    "_defaultOrder": 39,
    "_isFastLaunch": false,
    "category": "Memory Optimized",
    "gpuNum": 0,
    "hideHardwareSpecs": false,
    "memoryGiB": 16,
    "name": "ml.r5.large",
    "vcpuNum": 2
   },
   {
    "_defaultOrder": 40,
    "_isFastLaunch": false,
    "category": "Memory Optimized",
    "gpuNum": 0,
    "hideHardwareSpecs": false,
    "memoryGiB": 32,
    "name": "ml.r5.xlarge",
    "vcpuNum": 4
   },
   {
    "_defaultOrder": 41,
    "_isFastLaunch": false,
    "category": "Memory Optimized",
    "gpuNum": 0,
    "hideHardwareSpecs": false,
    "memoryGiB": 64,
    "name": "ml.r5.2xlarge",
    "vcpuNum": 8
   },
   {
    "_defaultOrder": 42,
    "_isFastLaunch": false,
    "category": "Memory Optimized",
    "gpuNum": 0,
    "hideHardwareSpecs": false,
    "memoryGiB": 128,
    "name": "ml.r5.4xlarge",
    "vcpuNum": 16
   },
   {
    "_defaultOrder": 43,
    "_isFastLaunch": false,
    "category": "Memory Optimized",
    "gpuNum": 0,
    "hideHardwareSpecs": false,
    "memoryGiB": 256,
    "name": "ml.r5.8xlarge",
    "vcpuNum": 32
   },
   {
    "_defaultOrder": 44,
    "_isFastLaunch": false,
    "category": "Memory Optimized",
    "gpuNum": 0,
    "hideHardwareSpecs": false,
    "memoryGiB": 384,
    "name": "ml.r5.12xlarge",
    "vcpuNum": 48
   },
   {
    "_defaultOrder": 45,
    "_isFastLaunch": false,
    "category": "Memory Optimized",
    "gpuNum": 0,
    "hideHardwareSpecs": false,
    "memoryGiB": 512,
    "name": "ml.r5.16xlarge",
    "vcpuNum": 64
   },
   {
    "_defaultOrder": 46,
    "_isFastLaunch": false,
    "category": "Memory Optimized",
    "gpuNum": 0,
    "hideHardwareSpecs": false,
    "memoryGiB": 768,
    "name": "ml.r5.24xlarge",
    "vcpuNum": 96
   },
   {
    "_defaultOrder": 47,
    "_isFastLaunch": false,
    "category": "Accelerated computing",
    "gpuNum": 1,
    "hideHardwareSpecs": false,
    "memoryGiB": 16,
    "name": "ml.g5.xlarge",
    "vcpuNum": 4
   },
   {
    "_defaultOrder": 48,
    "_isFastLaunch": false,
    "category": "Accelerated computing",
    "gpuNum": 1,
    "hideHardwareSpecs": false,
    "memoryGiB": 32,
    "name": "ml.g5.2xlarge",
    "vcpuNum": 8
   },
   {
    "_defaultOrder": 49,
    "_isFastLaunch": false,
    "category": "Accelerated computing",
    "gpuNum": 1,
    "hideHardwareSpecs": false,
    "memoryGiB": 64,
    "name": "ml.g5.4xlarge",
    "vcpuNum": 16
   },
   {
    "_defaultOrder": 50,
    "_isFastLaunch": false,
    "category": "Accelerated computing",
    "gpuNum": 1,
    "hideHardwareSpecs": false,
    "memoryGiB": 128,
    "name": "ml.g5.8xlarge",
    "vcpuNum": 32
   },
   {
    "_defaultOrder": 51,
    "_isFastLaunch": false,
    "category": "Accelerated computing",
    "gpuNum": 1,
    "hideHardwareSpecs": false,
    "memoryGiB": 256,
    "name": "ml.g5.16xlarge",
    "vcpuNum": 64
   },
   {
    "_defaultOrder": 52,
    "_isFastLaunch": false,
    "category": "Accelerated computing",
    "gpuNum": 4,
    "hideHardwareSpecs": false,
    "memoryGiB": 192,
    "name": "ml.g5.12xlarge",
    "vcpuNum": 48
   },
   {
    "_defaultOrder": 53,
    "_isFastLaunch": false,
    "category": "Accelerated computing",
    "gpuNum": 4,
    "hideHardwareSpecs": false,
    "memoryGiB": 384,
    "name": "ml.g5.24xlarge",
    "vcpuNum": 96
   },
   {
    "_defaultOrder": 54,
    "_isFastLaunch": false,
    "category": "Accelerated computing",
    "gpuNum": 8,
    "hideHardwareSpecs": false,
    "memoryGiB": 768,
    "name": "ml.g5.48xlarge",
    "vcpuNum": 192
   },
   {
    "_defaultOrder": 55,
    "_isFastLaunch": false,
    "category": "Accelerated computing",
    "gpuNum": 8,
    "hideHardwareSpecs": false,
    "memoryGiB": 1152,
    "name": "ml.p4d.24xlarge",
    "vcpuNum": 96
   },
   {
    "_defaultOrder": 56,
    "_isFastLaunch": false,
    "category": "Accelerated computing",
    "gpuNum": 8,
    "hideHardwareSpecs": false,
    "memoryGiB": 1152,
    "name": "ml.p4de.24xlarge",
    "vcpuNum": 96
   },
   {
    "_defaultOrder": 57,
    "_isFastLaunch": false,
    "category": "Accelerated computing",
    "gpuNum": 0,
    "hideHardwareSpecs": false,
    "memoryGiB": 32,
    "name": "ml.trn1.2xlarge",
    "vcpuNum": 8
   },
   {
    "_defaultOrder": 58,
    "_isFastLaunch": false,
    "category": "Accelerated computing",
    "gpuNum": 0,
    "hideHardwareSpecs": false,
    "memoryGiB": 512,
    "name": "ml.trn1.32xlarge",
    "vcpuNum": 128
   },
   {
    "_defaultOrder": 59,
    "_isFastLaunch": false,
    "category": "Accelerated computing",
    "gpuNum": 0,
    "hideHardwareSpecs": false,
    "memoryGiB": 512,
    "name": "ml.trn1n.32xlarge",
    "vcpuNum": 128
   }
  ],
  "instance_type": "ml.t3.medium",
  "kernelspec": {
   "display_name": "Python 3",
   "language": "python",
   "name": "python3"
  },
  "language_info": {
   "codemirror_mode": {
    "name": "ipython",
    "version": 3
   },
   "file_extension": ".py",
   "mimetype": "text/x-python",
   "name": "python",
   "nbconvert_exporter": "python",
   "pygments_lexer": "ipython3",
   "version": "3.10.1"
  }
 },
 "nbformat": 4,
 "nbformat_minor": 4
}

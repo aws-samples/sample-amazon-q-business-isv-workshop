{
 "cells": [
  {
   "cell_type": "markdown",
   "metadata": {},
   "source": [
    "# Module 1 - Integrate generative AI experiences into web applications with Amazon Q embedded\n",
    "\n",
    "You can embed the Amazon Q Business assistant within trusted websites. The Amazon Q assistant is powered by generative AI and can be configured to answer questions, provide summaries, generate content, and complete tasks based on your enterprise data. This allows your end users to receive immediate, permissions-aware responses from enterprise data sources, with citations.\n",
    "\n",
    "In this module, you will set-up an Amazon Q Business application from scratch and walk through all the required settings. You will use the IAM Identity Center instance as authentication mechanism for the application. You will then add indexes and connect data sources (such as Amazon S3 and Web crawler) to the application.\n",
    "\n",
    "Follow instructions in [module 1 of the workshop](https://catalog.us-east-1.prod.workshops.aws/workshops/1bc34548-5bb2-4b49-b048-d79dcd4ba611/en-US/module-1-q-embeddable) to complete this module"
   ]
  },
  {
   "cell_type": "markdown",
   "metadata": {},
   "source": []
  }
 ],
 "metadata": {
  "language_info": {
   "name": "python"
  }
 },
 "nbformat": 4,
 "nbformat_minor": 2
}

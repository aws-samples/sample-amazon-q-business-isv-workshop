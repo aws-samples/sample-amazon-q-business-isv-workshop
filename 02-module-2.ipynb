{
 "cells": [
  {
   "cell_type": "markdown",
   "metadata": {},
   "source": [
    "# Module 2 - Amazon Q cross-app index\n",
    "\n",
    "### Use Amazon Q Business cross-app index to search relevant content\n",
    "\n",
    "In this module, we will call the Amazon Q Business `SearchRelevantContent` API on the cross-app index to perform a semantic and keyword (Hybrid) based search. This search is useful for building Retrieval Augmented Generation (RAG) based generative AI applications. We will review the response of the API which will return textual chunks of relevant data as per a user query. We will then use these relevant chunks of information to perform a RAG based Q&A with Anthropic Claude Sonnet 3.5 model via Amazon Bedrock.\n",
    "\n",
    "Before we proceed further, let's install some pre-requisites first. Run the following code-block.\n",
    "\n",
    "<div class=\"alert alert-block alert-warning\"> <b>IMPORTANT:</b> Please make sure that you select <b>\"Python 3 (ipykernel)\"</b> kernel for this notebook from the top right corner, if one is not selected already. </div>\n",
    "\n",
    "## Step 1"
   ]
  },
  {
   "cell_type": "code",
   "execution_count": null,
   "metadata": {
    "scrolled": true,
    "tags": []
   },
   "outputs": [],
   "source": [
    "!python -m pip install boto3"
   ]
  },
  {
   "cell_type": "markdown",
   "metadata": {},
   "source": [
    "\n",
    "#### Pre-requisites\n",
    "\n",
    "In order to be able to call Amazon Q Business's data APIs, we will need to acquire credentials that are tagged to a specific user id (in this case, an email address). We have pre-deployed a mechanism that will help generate this credentials with a helper function. First we will need to acquire some necessary details that will help us generate the identity-aware SigV4 AWS credentials. Specifically, we will require the following details.\n",
    "\n",
    "- `issuer`: the issuer URL\n",
    "- `client_id`: a client_id for the OIDC client\n",
    "- `client_secret`: a client_secret for the OIDC client\n",
    "- `role_arn`: the IAM role to assume, this is the role that has Amazon Q Business permissions\n",
    "- `region`: `us-east-1` this is the current region where our Amazon Q Business Application is setup \n",
    "- `email`: your email address (can be a fictional email address of the format user@email.com)\n",
    "\n",
    "To obtain the values, execute the next code cell which will read a JSON file from an S3 bucket.\n",
    "\n",
    "## Step 2"
   ]
  },
  {
   "cell_type": "code",
   "execution_count": null,
   "metadata": {
    "tags": []
   },
   "outputs": [],
   "source": [
    "import boto3\n",
    "import json\n",
    "import sagemaker\n",
    "\n",
    "s3_client = boto3.client('s3')\n",
    "role = sagemaker.get_execution_role()\n",
    "account_id = role.split(':')[4]\n",
    "bucket_name = f'amazon-q-tvm-{account_id}'\n",
    "file_key = 'tvm_values.json'\n",
    "\n",
    "response = s3_client.get_object(Bucket=bucket_name, Key=file_key)\n",
    "creds = json.loads(response['Body'].read().decode('utf-8'))[\"TVMOidcIssuerStack\"]\n",
    "creds[\"IssuerUrlOutput\"] = creds[\"IssuerUrlOutput\"].rstrip('/')"
   ]
  },
  {
   "cell_type": "markdown",
   "metadata": {},
   "source": [
    "We will use the JSON data above to initialize our helper function `TVMClient` in the next code block. Go ahead and enter your email address in the `email_address` variable if you wish to, else you can keep `jon_doe@email.com`. Once done, execute the code block.\n",
    "\n",
    "## Step 3"
   ]
  },
  {
   "cell_type": "code",
   "execution_count": null,
   "metadata": {
    "tags": []
   },
   "outputs": [],
   "source": [
    "from utils.tvm_client import TVMClient\n",
    "\n",
    "email_address=\"john_doe@email.com\"\n",
    "\n",
    "token_client = TVMClient(\n",
    "        issuer=creds[\"IssuerUrlOutput\"],\n",
    "        client_id=creds[\"QbizTVMClientID\"],\n",
    "        client_secret=creds[\"QbizTVMClientSecret\"],\n",
    "        role_arn=creds[\"QBizAssumeRoleARN\"],\n",
    "        region=\"us-east-1\"\n",
    ")\n",
    "    \n",
    "# Get Sigv4 credentials using TVM\n",
    "credentials = token_client.get_sigv4_credentials(email=email_address)"
   ]
  },
  {
   "cell_type": "markdown",
   "metadata": {},
   "source": [
    "## Step 4\n",
    "\n",
    "_Use SigV4 credentials to initialize Amazon Q Business Client_: We will then initialize an Amazon Q Business Boto3 (Python) client with the SigV4 credentials obtained using the helper function to make calls to Amazon Q Business APIs (in this case the `SearchRelevantContent` API)."
   ]
  },
  {
   "cell_type": "code",
   "execution_count": null,
   "metadata": {
    "tags": []
   },
   "outputs": [],
   "source": [
    "import boto3\n",
    "\n",
    "qbiz = boto3.client(\"qbusiness\", **credentials)\n",
    "        "
   ]
  },
  {
   "cell_type": "markdown",
   "metadata": {},
   "source": [
    "## Calling `SearchRelevantContent` API\n",
    "---\n",
    "\n",
    "In the previous code block, we initialized an Amazon Q Business client with the required credentials. We are now ready to make the call to the `SearchRelevantContent` API and analyze it's response. To call the API, we require the Amazon Q Business Application id (`applicationId`) and the retriever ID (`retrieverId`). \n",
    "\n",
    "Execute the next code block under \"Step 5\" which will fetch the application ID and retriever ID respectively.\n",
    "\n",
    "## Step 5"
   ]
  },
  {
   "cell_type": "code",
   "execution_count": null,
   "metadata": {
    "tags": []
   },
   "outputs": [],
   "source": [
    "Q_BIZ_APP_ID = \"\"\n",
    "Q_RETRIEVER_ID = \"\"\n",
    "\n",
    "import boto3\n",
    "client = boto3.client('qbusiness')\n",
    "response_app = client.list_applications()\n",
    "\n",
    "for r in response_app[\"applications\"]:\n",
    "    if 'aim333-module-2' in r['displayName']:\n",
    "        Q_BIZ_APP_ID=r['applicationId']\n",
    "\n",
    "if Q_BIZ_APP_ID:\n",
    "    response_ret = client.list_retrievers(applicationId=Q_BIZ_APP_ID)\n",
    "    Q_RETRIEVER_ID = response_ret['retrievers'][0]['retrieverId']\n",
    "\n",
    "print(f\"Application ID is: {Q_BIZ_APP_ID}\\nRetriever ID is: {Q_RETRIEVER_ID}\")"
   ]
  },
  {
   "cell_type": "markdown",
   "metadata": {},
   "source": [
    "<div class=\"alert alert-block alert-info\"> \n",
    "    <b><i>(Optional)</i> View Application ID and Retriever ID in the Amazon Q Business console:</b> \n",
    "    <p>\n",
    "    You can also get the values for application ID and retriever ID from the Amazon Q Business console under the application named `aim333-module-2`. Follow these steps to view the values (this is informational only, if you have executed the code block above you may move on to the next step) -</p>\n",
    "\n",
    "<ol>\n",
    "    <li> Navigate to the Amazon Q Business console.</li>\n",
    "    <li> Click on \"Applications\" from the menu on the left.</li>\n",
    "    <li> Click on the application named `aim333-module-2`.</li>\n",
    "    <li> In the following screen, scroll down to the \"Application Settings\" section.</li>\n",
    "    <li> The application ID is found under the label \"Application ID\".</li>    \n",
    "</ol>\n",
    "<p>Next, to get the retriever ID</p>\n",
    "<ol>\n",
    "    <li> In the same screen, click on the next tab labeled \"Index\".</li>\n",
    "    <li> The retriever ID is found under the label \"Retriever ID\".</li>\n",
    "</ol>\n",
    "</div>"
   ]
  },
  {
   "cell_type": "markdown",
   "metadata": {},
   "source": [
    "Let's test this client by calling the `ChatSync` API first. At this stage our user `john_doe@email.com` is not subscribed to the Amazon Q Business Application. The call to `ChatSync` API will auto subscribe the user with an `AccessDeniedException`, this is normal and a one-time action after which the `ChatSync` operation can be retried."
   ]
  },
  {
   "cell_type": "code",
   "execution_count": null,
   "metadata": {
    "tags": []
   },
   "outputs": [],
   "source": [
    "import time\n",
    "\n",
    "chat_params = {\n",
    "    \"applicationId\": Q_BIZ_APP_ID,\n",
    "    \"userMessage\": \"What are the reasons for keyboard failures?\"\n",
    "}\n",
    "\n",
    "def call_chat_sync(chat_params):\n",
    "    try:\n",
    "        response = qbiz.chat_sync(**chat_params)\n",
    "        print(f\"Answer: {response['systemMessage']}\")\n",
    "        print(\"=========Sources=========\")\n",
    "        for source in response['sourceAttributions']:\n",
    "            print(f'Title: {source[\"title\"]}, URL: {source[\"url\"]}')\n",
    "    except qbiz.exceptions.AccessDeniedException:\n",
    "        print(\"User subscribed...\\n\\n\")\n",
    "        time.sleep(2)\n",
    "        call_chat_sync(chat_params)\n",
    "    except Exception as err:\n",
    "        print(err)\n",
    "        print(\"Please retry\")\n",
    "        \n",
    "call_chat_sync(chat_params)"
   ]
  },
  {
   "cell_type": "markdown",
   "metadata": {},
   "source": [
    "Next we will run the `SearchRelevantContent` API."
   ]
  },
  {
   "cell_type": "code",
   "execution_count": null,
   "metadata": {
    "scrolled": true,
    "tags": []
   },
   "outputs": [],
   "source": [
    "import boto3\n",
    "import pprint\n",
    "qbiz = boto3.client(\"qbusiness\", region_name=\"us-east-1\", **credentials)\n",
    "\n",
    "\n",
    "search_params = {  'applicationId': Q_BIZ_APP_ID, \n",
    "    'contentSource': {\n",
    "        'retriever': { \n",
    "            'retrieverId': Q_RETRIEVER_ID \n",
    "            }\n",
    "    }, \n",
    "    'queryText': 'What are the reasons for keyboard failures?', \n",
    "    'maxResults': 5\n",
    "}\n",
    "\n",
    "def call_search_relevant_content(search_params):\n",
    "    try:\n",
    "        search_response = qbiz.search_relevant_content(**search_params)\n",
    "        pprint.pprint(search_response['relevantContent'])\n",
    "        return search_response['relevantContent']\n",
    "    except Exception as e:\n",
    "        print(e)\n",
    "\n",
    "relevant_content = call_search_relevant_content(search_params)"
   ]
  },
  {
   "cell_type": "markdown",
   "metadata": {},
   "source": [
    "## Build a RAG application with `SearchRelevantContent`\n",
    "\n",
    "Next, we will build a RAG (Retrieval Augmented Generation) application with results of `SearchRelevantContent` API. Here, we will use Amazon Bedrock models and APIs to perform Q&A on the relevant data retrieved by the `SearchRelevantContent` API. Let's initialize Amazon Bedrock Client.\n",
    "\n",
    "**NOTE**: You must have completed the pre-requisites in the beginning of the workshop to enable Anthropic Claude Sonnet 3.5 model access in order to proceed with this section of the hands-on. Also note that we are specifically accessing Bedrock in `us-west-2` region.\n",
    "\n",
    "## Step 6"
   ]
  },
  {
   "cell_type": "code",
   "execution_count": null,
   "metadata": {
    "tags": []
   },
   "outputs": [],
   "source": [
    "import boto3\n",
    "\n",
    "bedrock_client = boto3.client('bedrock-runtime', region_name='us-west-2')"
   ]
  },
  {
   "cell_type": "markdown",
   "metadata": {},
   "source": [
    "We will be specifically using Amazon Bedrock's `converse` API to call the model. Let's invoke the model with a sample SYSTEM_PROMPT and query, with no context.\n",
    "\n",
    "## Step 7"
   ]
  },
  {
   "cell_type": "code",
   "execution_count": null,
   "metadata": {
    "tags": []
   },
   "outputs": [],
   "source": [
    "QUERY=\"What is the typical reason of company keyboards not working?\"\n",
    "\n",
    "SYSTEM_PROMPT=\"\"\"\"\n",
    "You are a helpful AI assistant who answers question correctly and accurately about a AcmeCompany's IT tickets. Do not makeup answers and only answer from the provided knowledge.\n",
    "\"\"\"\n",
    "\n",
    "messages = [\n",
    "    {\n",
    "        \"role\": \"user\",\n",
    "        \"content\":[\n",
    "            {\"text\": QUERY}\n",
    "        ]\n",
    "    }\n",
    "]\n",
    "converse_params = {\n",
    "        \"modelId\": 'anthropic.claude-3-5-sonnet-20240620-v1:0',\n",
    "        \"messages\": messages,                \n",
    "        \"system\": [{\"text\": SYSTEM_PROMPT}]\n",
    "    }\n",
    "ai_response = bedrock_client.converse(**converse_params)\n",
    "\n",
    "print(ai_response['output']['message']['content'][0]['text'])"
   ]
  },
  {
   "cell_type": "markdown",
   "metadata": {},
   "source": [
    "As you can see, the model is unable to answer this question because it has no context related to AcmeCompany's IT support tickets. Now let's use the results from `SearchRelevantContent` API to build a context and provide it to the model. We will make some code changes to better prompt the model with the additional context. But before we do that, lets gather all the `content` pieces that we got via the `SearchRelevantContent` API.\n",
    "\n",
    "## Step 8"
   ]
  },
  {
   "cell_type": "code",
   "execution_count": null,
   "metadata": {
    "scrolled": true,
    "tags": []
   },
   "outputs": [],
   "source": [
    "full_context = \"\"\n",
    "\n",
    "for chunks in relevant_content:\n",
    "    full_context = full_context + chunks['content'] + \"\\n\"\n",
    "\n",
    "print(full_context)"
   ]
  },
  {
   "cell_type": "markdown",
   "metadata": {
    "tags": []
   },
   "source": [
    "Now that we have the full context and any relevant information related to the `QUERY` we are ready to provide this information to the model and ask our question again.\n",
    "\n",
    "## Step 9"
   ]
  },
  {
   "cell_type": "code",
   "execution_count": null,
   "metadata": {
    "tags": []
   },
   "outputs": [],
   "source": [
    "QUERY=\"What is the typical reason of company keyboards not working?\"\n",
    "\n",
    "SYSTEM_PROMPT=\"\"\"\"\n",
    "You are a helpful AI assistant who answers question correctly and accurately about a AcmeCompany's IT tickets. Do not makeup answers and only answer from the provided knowledge.\n",
    "\"\"\"\n",
    "\n",
    "messages = [{\"role\": \"user\",\"content\":[{\"text\": f\"Given the full context: {full_context}\\n\\nAnswer this question accurately: {QUERY}\"}]}]\n",
    "converse_params = {\n",
    "        \"modelId\": 'anthropic.claude-3-5-sonnet-20240620-v1:0',\n",
    "        \"messages\": messages,                \n",
    "        \"system\": [{\"text\": SYSTEM_PROMPT}]\n",
    "    }\n",
    "ai_response = bedrock_client.converse(**converse_params)\n",
    "\n",
    "print(ai_response['output']['message']['content'][0]['text'])"
   ]
  },
  {
   "cell_type": "markdown",
   "metadata": {},
   "source": [
    "# Conclusion\n",
    "---\n",
    "\n",
    "In this module we learnt how to call Amazon Q Business cross-app index which gives you access to data from variaous enterprise applications from across the organization and your customer's organization. We then saw how to use the results returned by the `SearchRelevantContent` API to build powerful RAG-based Q&A applications with any LLM. In our example, we saw how the model was unable to answer the question without much context about the question. Once the full context relevan't to the user `QUERY` was provided, thanks to the cross-app index, the model's response was much better and accurate.\n",
    "\n",
    "This concludes our workshop! Thanks for joining us and please take a moment to fill out the Survey for Session ID: AIM333 in the \"AWS Events\" mobile App or by scanning the QR code."
   ]
  },
  {
   "cell_type": "code",
   "execution_count": null,
   "metadata": {},
   "outputs": [],
   "source": []
  }
 ],
 "metadata": {
  "availableInstances": [
   {
    "_defaultOrder": 0,
    "_isFastLaunch": true,
    "category": "General purpose",
    "gpuNum": 0,
    "hideHardwareSpecs": false,
    "memoryGiB": 4,
    "name": "ml.t3.medium",
    "vcpuNum": 2
   },
   {
    "_defaultOrder": 1,
    "_isFastLaunch": false,
    "category": "General purpose",
    "gpuNum": 0,
    "hideHardwareSpecs": false,
    "memoryGiB": 8,
    "name": "ml.t3.large",
    "vcpuNum": 2
   },
   {
    "_defaultOrder": 2,
    "_isFastLaunch": false,
    "category": "General purpose",
    "gpuNum": 0,
    "hideHardwareSpecs": false,
    "memoryGiB": 16,
    "name": "ml.t3.xlarge",
    "vcpuNum": 4
   },
   {
    "_defaultOrder": 3,
    "_isFastLaunch": false,
    "category": "General purpose",
    "gpuNum": 0,
    "hideHardwareSpecs": false,
    "memoryGiB": 32,
    "name": "ml.t3.2xlarge",
    "vcpuNum": 8
   },
   {
    "_defaultOrder": 4,
    "_isFastLaunch": true,
    "category": "General purpose",
    "gpuNum": 0,
    "hideHardwareSpecs": false,
    "memoryGiB": 8,
    "name": "ml.m5.large",
    "vcpuNum": 2
   },
   {
    "_defaultOrder": 5,
    "_isFastLaunch": false,
    "category": "General purpose",
    "gpuNum": 0,
    "hideHardwareSpecs": false,
    "memoryGiB": 16,
    "name": "ml.m5.xlarge",
    "vcpuNum": 4
   },
   {
    "_defaultOrder": 6,
    "_isFastLaunch": false,
    "category": "General purpose",
    "gpuNum": 0,
    "hideHardwareSpecs": false,
    "memoryGiB": 32,
    "name": "ml.m5.2xlarge",
    "vcpuNum": 8
   },
   {
    "_defaultOrder": 7,
    "_isFastLaunch": false,
    "category": "General purpose",
    "gpuNum": 0,
    "hideHardwareSpecs": false,
    "memoryGiB": 64,
    "name": "ml.m5.4xlarge",
    "vcpuNum": 16
   },
   {
    "_defaultOrder": 8,
    "_isFastLaunch": false,
    "category": "General purpose",
    "gpuNum": 0,
    "hideHardwareSpecs": false,
    "memoryGiB": 128,
    "name": "ml.m5.8xlarge",
    "vcpuNum": 32
   },
   {
    "_defaultOrder": 9,
    "_isFastLaunch": false,
    "category": "General purpose",
    "gpuNum": 0,
    "hideHardwareSpecs": false,
    "memoryGiB": 192,
    "name": "ml.m5.12xlarge",
    "vcpuNum": 48
   },
   {
    "_defaultOrder": 10,
    "_isFastLaunch": false,
    "category": "General purpose",
    "gpuNum": 0,
    "hideHardwareSpecs": false,
    "memoryGiB": 256,
    "name": "ml.m5.16xlarge",
    "vcpuNum": 64
   },
   {
    "_defaultOrder": 11,
    "_isFastLaunch": false,
    "category": "General purpose",
    "gpuNum": 0,
    "hideHardwareSpecs": false,
    "memoryGiB": 384,
    "name": "ml.m5.24xlarge",
    "vcpuNum": 96
   },
   {
    "_defaultOrder": 12,
    "_isFastLaunch": false,
    "category": "General purpose",
    "gpuNum": 0,
    "hideHardwareSpecs": false,
    "memoryGiB": 8,
    "name": "ml.m5d.large",
    "vcpuNum": 2
   },
   {
    "_defaultOrder": 13,
    "_isFastLaunch": false,
    "category": "General purpose",
    "gpuNum": 0,
    "hideHardwareSpecs": false,
    "memoryGiB": 16,
    "name": "ml.m5d.xlarge",
    "vcpuNum": 4
   },
   {
    "_defaultOrder": 14,
    "_isFastLaunch": false,
    "category": "General purpose",
    "gpuNum": 0,
    "hideHardwareSpecs": false,
    "memoryGiB": 32,
    "name": "ml.m5d.2xlarge",
    "vcpuNum": 8
   },
   {
    "_defaultOrder": 15,
    "_isFastLaunch": false,
    "category": "General purpose",
    "gpuNum": 0,
    "hideHardwareSpecs": false,
    "memoryGiB": 64,
    "name": "ml.m5d.4xlarge",
    "vcpuNum": 16
   },
   {
    "_defaultOrder": 16,
    "_isFastLaunch": false,
    "category": "General purpose",
    "gpuNum": 0,
    "hideHardwareSpecs": false,
    "memoryGiB": 128,
    "name": "ml.m5d.8xlarge",
    "vcpuNum": 32
   },
   {
    "_defaultOrder": 17,
    "_isFastLaunch": false,
    "category": "General purpose",
    "gpuNum": 0,
    "hideHardwareSpecs": false,
    "memoryGiB": 192,
    "name": "ml.m5d.12xlarge",
    "vcpuNum": 48
   },
   {
    "_defaultOrder": 18,
    "_isFastLaunch": false,
    "category": "General purpose",
    "gpuNum": 0,
    "hideHardwareSpecs": false,
    "memoryGiB": 256,
    "name": "ml.m5d.16xlarge",
    "vcpuNum": 64
   },
   {
    "_defaultOrder": 19,
    "_isFastLaunch": false,
    "category": "General purpose",
    "gpuNum": 0,
    "hideHardwareSpecs": false,
    "memoryGiB": 384,
    "name": "ml.m5d.24xlarge",
    "vcpuNum": 96
   },
   {
    "_defaultOrder": 20,
    "_isFastLaunch": false,
    "category": "General purpose",
    "gpuNum": 0,
    "hideHardwareSpecs": true,
    "memoryGiB": 0,
    "name": "ml.geospatial.interactive",
    "supportedImageNames": [
     "sagemaker-geospatial-v1-0"
    ],
    "vcpuNum": 0
   },
   {
    "_defaultOrder": 21,
    "_isFastLaunch": true,
    "category": "Compute optimized",
    "gpuNum": 0,
    "hideHardwareSpecs": false,
    "memoryGiB": 4,
    "name": "ml.c5.large",
    "vcpuNum": 2
   },
   {
    "_defaultOrder": 22,
    "_isFastLaunch": false,
    "category": "Compute optimized",
    "gpuNum": 0,
    "hideHardwareSpecs": false,
    "memoryGiB": 8,
    "name": "ml.c5.xlarge",
    "vcpuNum": 4
   },
   {
    "_defaultOrder": 23,
    "_isFastLaunch": false,
    "category": "Compute optimized",
    "gpuNum": 0,
    "hideHardwareSpecs": false,
    "memoryGiB": 16,
    "name": "ml.c5.2xlarge",
    "vcpuNum": 8
   },
   {
    "_defaultOrder": 24,
    "_isFastLaunch": false,
    "category": "Compute optimized",
    "gpuNum": 0,
    "hideHardwareSpecs": false,
    "memoryGiB": 32,
    "name": "ml.c5.4xlarge",
    "vcpuNum": 16
   },
   {
    "_defaultOrder": 25,
    "_isFastLaunch": false,
    "category": "Compute optimized",
    "gpuNum": 0,
    "hideHardwareSpecs": false,
    "memoryGiB": 72,
    "name": "ml.c5.9xlarge",
    "vcpuNum": 36
   },
   {
    "_defaultOrder": 26,
    "_isFastLaunch": false,
    "category": "Compute optimized",
    "gpuNum": 0,
    "hideHardwareSpecs": false,
    "memoryGiB": 96,
    "name": "ml.c5.12xlarge",
    "vcpuNum": 48
   },
   {
    "_defaultOrder": 27,
    "_isFastLaunch": false,
    "category": "Compute optimized",
    "gpuNum": 0,
    "hideHardwareSpecs": false,
    "memoryGiB": 144,
    "name": "ml.c5.18xlarge",
    "vcpuNum": 72
   },
   {
    "_defaultOrder": 28,
    "_isFastLaunch": false,
    "category": "Compute optimized",
    "gpuNum": 0,
    "hideHardwareSpecs": false,
    "memoryGiB": 192,
    "name": "ml.c5.24xlarge",
    "vcpuNum": 96
   },
   {
    "_defaultOrder": 29,
    "_isFastLaunch": true,
    "category": "Accelerated computing",
    "gpuNum": 1,
    "hideHardwareSpecs": false,
    "memoryGiB": 16,
    "name": "ml.g4dn.xlarge",
    "vcpuNum": 4
   },
   {
    "_defaultOrder": 30,
    "_isFastLaunch": false,
    "category": "Accelerated computing",
    "gpuNum": 1,
    "hideHardwareSpecs": false,
    "memoryGiB": 32,
    "name": "ml.g4dn.2xlarge",
    "vcpuNum": 8
   },
   {
    "_defaultOrder": 31,
    "_isFastLaunch": false,
    "category": "Accelerated computing",
    "gpuNum": 1,
    "hideHardwareSpecs": false,
    "memoryGiB": 64,
    "name": "ml.g4dn.4xlarge",
    "vcpuNum": 16
   },
   {
    "_defaultOrder": 32,
    "_isFastLaunch": false,
    "category": "Accelerated computing",
    "gpuNum": 1,
    "hideHardwareSpecs": false,
    "memoryGiB": 128,
    "name": "ml.g4dn.8xlarge",
    "vcpuNum": 32
   },
   {
    "_defaultOrder": 33,
    "_isFastLaunch": false,
    "category": "Accelerated computing",
    "gpuNum": 4,
    "hideHardwareSpecs": false,
    "memoryGiB": 192,
    "name": "ml.g4dn.12xlarge",
    "vcpuNum": 48
   },
   {
    "_defaultOrder": 34,
    "_isFastLaunch": false,
    "category": "Accelerated computing",
    "gpuNum": 1,
    "hideHardwareSpecs": false,
    "memoryGiB": 256,
    "name": "ml.g4dn.16xlarge",
    "vcpuNum": 64
   },
   {
    "_defaultOrder": 35,
    "_isFastLaunch": false,
    "category": "Accelerated computing",
    "gpuNum": 1,
    "hideHardwareSpecs": false,
    "memoryGiB": 61,
    "name": "ml.p3.2xlarge",
    "vcpuNum": 8
   },
   {
    "_defaultOrder": 36,
    "_isFastLaunch": false,
    "category": "Accelerated computing",
    "gpuNum": 4,
    "hideHardwareSpecs": false,
    "memoryGiB": 244,
    "name": "ml.p3.8xlarge",
    "vcpuNum": 32
   },
   {
    "_defaultOrder": 37,
    "_isFastLaunch": false,
    "category": "Accelerated computing",
    "gpuNum": 8,
    "hideHardwareSpecs": false,
    "memoryGiB": 488,
    "name": "ml.p3.16xlarge",
    "vcpuNum": 64
   },
   {
    "_defaultOrder": 38,
    "_isFastLaunch": false,
    "category": "Accelerated computing",
    "gpuNum": 8,
    "hideHardwareSpecs": false,
    "memoryGiB": 768,
    "name": "ml.p3dn.24xlarge",
    "vcpuNum": 96
   },
   {
    "_defaultOrder": 39,
    "_isFastLaunch": false,
    "category": "Memory Optimized",
    "gpuNum": 0,
    "hideHardwareSpecs": false,
    "memoryGiB": 16,
    "name": "ml.r5.large",
    "vcpuNum": 2
   },
   {
    "_defaultOrder": 40,
    "_isFastLaunch": false,
    "category": "Memory Optimized",
    "gpuNum": 0,
    "hideHardwareSpecs": false,
    "memoryGiB": 32,
    "name": "ml.r5.xlarge",
    "vcpuNum": 4
   },
   {
    "_defaultOrder": 41,
    "_isFastLaunch": false,
    "category": "Memory Optimized",
    "gpuNum": 0,
    "hideHardwareSpecs": false,
    "memoryGiB": 64,
    "name": "ml.r5.2xlarge",
    "vcpuNum": 8
   },
   {
    "_defaultOrder": 42,
    "_isFastLaunch": false,
    "category": "Memory Optimized",
    "gpuNum": 0,
    "hideHardwareSpecs": false,
    "memoryGiB": 128,
    "name": "ml.r5.4xlarge",
    "vcpuNum": 16
   },
   {
    "_defaultOrder": 43,
    "_isFastLaunch": false,
    "category": "Memory Optimized",
    "gpuNum": 0,
    "hideHardwareSpecs": false,
    "memoryGiB": 256,
    "name": "ml.r5.8xlarge",
    "vcpuNum": 32
   },
   {
    "_defaultOrder": 44,
    "_isFastLaunch": false,
    "category": "Memory Optimized",
    "gpuNum": 0,
    "hideHardwareSpecs": false,
    "memoryGiB": 384,
    "name": "ml.r5.12xlarge",
    "vcpuNum": 48
   },
   {
    "_defaultOrder": 45,
    "_isFastLaunch": false,
    "category": "Memory Optimized",
    "gpuNum": 0,
    "hideHardwareSpecs": false,
    "memoryGiB": 512,
    "name": "ml.r5.16xlarge",
    "vcpuNum": 64
   },
   {
    "_defaultOrder": 46,
    "_isFastLaunch": false,
    "category": "Memory Optimized",
    "gpuNum": 0,
    "hideHardwareSpecs": false,
    "memoryGiB": 768,
    "name": "ml.r5.24xlarge",
    "vcpuNum": 96
   },
   {
    "_defaultOrder": 47,
    "_isFastLaunch": false,
    "category": "Accelerated computing",
    "gpuNum": 1,
    "hideHardwareSpecs": false,
    "memoryGiB": 16,
    "name": "ml.g5.xlarge",
    "vcpuNum": 4
   },
   {
    "_defaultOrder": 48,
    "_isFastLaunch": false,
    "category": "Accelerated computing",
    "gpuNum": 1,
    "hideHardwareSpecs": false,
    "memoryGiB": 32,
    "name": "ml.g5.2xlarge",
    "vcpuNum": 8
   },
   {
    "_defaultOrder": 49,
    "_isFastLaunch": false,
    "category": "Accelerated computing",
    "gpuNum": 1,
    "hideHardwareSpecs": false,
    "memoryGiB": 64,
    "name": "ml.g5.4xlarge",
    "vcpuNum": 16
   },
   {
    "_defaultOrder": 50,
    "_isFastLaunch": false,
    "category": "Accelerated computing",
    "gpuNum": 1,
    "hideHardwareSpecs": false,
    "memoryGiB": 128,
    "name": "ml.g5.8xlarge",
    "vcpuNum": 32
   },
   {
    "_defaultOrder": 51,
    "_isFastLaunch": false,
    "category": "Accelerated computing",
    "gpuNum": 1,
    "hideHardwareSpecs": false,
    "memoryGiB": 256,
    "name": "ml.g5.16xlarge",
    "vcpuNum": 64
   },
   {
    "_defaultOrder": 52,
    "_isFastLaunch": false,
    "category": "Accelerated computing",
    "gpuNum": 4,
    "hideHardwareSpecs": false,
    "memoryGiB": 192,
    "name": "ml.g5.12xlarge",
    "vcpuNum": 48
   },
   {
    "_defaultOrder": 53,
    "_isFastLaunch": false,
    "category": "Accelerated computing",
    "gpuNum": 4,
    "hideHardwareSpecs": false,
    "memoryGiB": 384,
    "name": "ml.g5.24xlarge",
    "vcpuNum": 96
   },
   {
    "_defaultOrder": 54,
    "_isFastLaunch": false,
    "category": "Accelerated computing",
    "gpuNum": 8,
    "hideHardwareSpecs": false,
    "memoryGiB": 768,
    "name": "ml.g5.48xlarge",
    "vcpuNum": 192
   },
   {
    "_defaultOrder": 55,
    "_isFastLaunch": false,
    "category": "Accelerated computing",
    "gpuNum": 8,
    "hideHardwareSpecs": false,
    "memoryGiB": 1152,
    "name": "ml.p4d.24xlarge",
    "vcpuNum": 96
   },
   {
    "_defaultOrder": 56,
    "_isFastLaunch": false,
    "category": "Accelerated computing",
    "gpuNum": 8,
    "hideHardwareSpecs": false,
    "memoryGiB": 1152,
    "name": "ml.p4de.24xlarge",
    "vcpuNum": 96
   },
   {
    "_defaultOrder": 57,
    "_isFastLaunch": false,
    "category": "Accelerated computing",
    "gpuNum": 0,
    "hideHardwareSpecs": false,
    "memoryGiB": 32,
    "name": "ml.trn1.2xlarge",
    "vcpuNum": 8
   },
   {
    "_defaultOrder": 58,
    "_isFastLaunch": false,
    "category": "Accelerated computing",
    "gpuNum": 0,
    "hideHardwareSpecs": false,
    "memoryGiB": 512,
    "name": "ml.trn1.32xlarge",
    "vcpuNum": 128
   },
   {
    "_defaultOrder": 59,
    "_isFastLaunch": false,
    "category": "Accelerated computing",
    "gpuNum": 0,
    "hideHardwareSpecs": false,
    "memoryGiB": 512,
    "name": "ml.trn1n.32xlarge",
    "vcpuNum": 128
   }
  ],
  "instance_type": "ml.t3.medium",
  "kernelspec": {
   "display_name": "Python 3 (Data Science 3.0)",
   "language": "python",
   "name": "python3__SAGEMAKER_INTERNAL__arn:aws:sagemaker:us-east-1:081325390199:image/sagemaker-data-science-310-v1"
  },
  "language_info": {
   "codemirror_mode": {
    "name": "ipython",
    "version": 3
   },
   "file_extension": ".py",
   "mimetype": "text/x-python",
   "name": "python",
   "nbconvert_exporter": "python",
   "pygments_lexer": "ipython3",
   "version": "3.10.6"
  }
 },
 "nbformat": 4,
 "nbformat_minor": 4
}

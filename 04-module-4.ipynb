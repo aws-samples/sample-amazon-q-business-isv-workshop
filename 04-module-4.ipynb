{
 "cells": [
  {
   "cell_type": "markdown",
   "metadata": {},
   "source": [
    "# Module 4 - Integration Amazon Q index with Amazon Nova Tool use\n",
    "\n",
    "### Use Amazon Q index to search relevant content and Tool use (function calling) with Amazon Nova models\n",
    "\n",
    "\n",
    "This module demonstrates how to leverage the Tool use functionality with Amazon Nova to analyze support tickets using the retrieved content from an Amazon Q index. In the earlier modules, we used the Amazon Q Business `SearchRelevantContent` API on the cross-app index to perform a semantic and keyword (Hybrid) based search. In this section, we will use these relevant information chunks to invoke tool functions and process the input parameters provided by the model. We will cover the complete process of defining and integrating tools when working with Amazon Nova models.\n",
    "\n",
    "Before we proceed further, let's install some pre-requisites first. Run the following code-block.\n",
    "\n",
    "<div class=\"alert alert-block alert-warning\"> <b>IMPORTANT:</b> Please make sure that you select <b>\"Python 3 (ipykernel)\"</b> kernel for this notebook from the top right corner, if one is not selected already. </div>\n",
    "\n",
    "## Step 1"
   ]
  },
  {
   "cell_type": "code",
   "execution_count": null,
   "metadata": {
    "scrolled": true,
    "tags": []
   },
   "outputs": [],
   "source": [
    "!python -m pip install boto3"
   ]
  },
  {
   "cell_type": "markdown",
   "metadata": {},
   "source": [
    "\n",
    "#### Pre-requisites\n",
    "\n",
    "In order to be able to call Amazon Q Business's data APIs, we will need to acquire credentials that are tagged to a specific user id (in this case, an email address). We have pre-deployed a mechanism that will help generate this credentials with a helper function. First we will need to acquire some necessary details that will help us generate the identity-aware SigV4 AWS credentials. Specifically, we will require the following details.\n",
    "\n",
    "- `issuer`: the issuer URL\n",
    "- `client_id`: a client_id for the OIDC client\n",
    "- `client_secret`: a client_secret for the OIDC client\n",
    "- `role_arn`: the IAM role to assume, this is the role that has Amazon Q Business permissions\n",
    "- `region`: `us-east-1` this is the current region where our Amazon Q Business Application is setup \n",
    "- `email`: your email address (can be a fictional email address of the format user@email.com)\n",
    "\n",
    "To obtain the values, execute the next code cell which will read a JSON file from an S3 bucket.\n",
    "\n",
    "## Step 2"
   ]
  },
  {
   "cell_type": "code",
   "execution_count": null,
   "metadata": {
    "tags": []
   },
   "outputs": [],
   "source": [
    "import boto3\n",
    "import json\n",
    "import sagemaker\n",
    "\n",
    "s3_client = boto3.client('s3')\n",
    "role = sagemaker.get_execution_role()\n",
    "account_id = role.split(':')[4]\n",
    "bucket_name = f'amazon-q-tvm-{account_id}'\n",
    "file_key = 'tvm_values.json'\n",
    "\n",
    "response = s3_client.get_object(Bucket=bucket_name, Key=file_key)\n",
    "creds = json.loads(response['Body'].read().decode('utf-8'))[\"TVMOidcIssuerStack\"]\n",
    "creds[\"IssuerUrlOutput\"] = creds[\"IssuerUrlOutput\"].rstrip('/')"
   ]
  },
  {
   "cell_type": "markdown",
   "metadata": {},
   "source": [
    "We will use the JSON data above to initialize our helper function `TVMClient` in the next code block. Go ahead and enter your email address in the `email_address` variable if you wish to, else you can keep `jon_doe@email.com`. Once done, execute the code block.\n",
    "\n",
    "## Step 3"
   ]
  },
  {
   "cell_type": "code",
   "execution_count": null,
   "metadata": {
    "tags": []
   },
   "outputs": [],
   "source": [
    "from utils.tvm_client import TVMClient\n",
    "\n",
    "email_address=\"john_doe@email.com\"\n",
    "\n",
    "token_client = TVMClient(\n",
    "        issuer=creds[\"IssuerUrlOutput\"],\n",
    "        client_id=creds[\"QbizTVMClientID\"],\n",
    "        client_secret=creds[\"QbizTVMClientSecret\"],\n",
    "        role_arn=creds[\"QBizAssumeRoleARN\"],\n",
    "        region=\"us-east-1\"\n",
    ")\n",
    "    \n",
    "# Get Sigv4 credentials using TVM\n",
    "credentials = token_client.get_sigv4_credentials(email=email_address)"
   ]
  },
  {
   "cell_type": "markdown",
   "metadata": {},
   "source": [
    "## Step 4\n",
    "\n",
    "_Use SigV4 credentials to initialize Amazon Q Business Client_: We will then initialize an Amazon Q Business Boto3 (Python) client with the SigV4 credentials obtained using the helper function to make calls to Amazon Q Business APIs (in this case the `SearchRelevantContent` API)."
   ]
  },
  {
   "cell_type": "code",
   "execution_count": null,
   "metadata": {
    "tags": []
   },
   "outputs": [],
   "source": [
    "import boto3\n",
    "\n",
    "qbiz = boto3.client(\"qbusiness\", **credentials)\n",
    "    "
   ]
  },
  {
   "cell_type": "markdown",
   "metadata": {},
   "source": [
    "## Calling `SearchRelevantContent` API\n",
    "---\n",
    "\n",
    "In the previous code block, we initialized an Amazon Q Business client with the required credentials. We are now ready to make the call to the `SearchRelevantContent` API and analyze it's response. To call the API, we require the Amazon Q Business Application id (`applicationId`) and the retriever ID (`retrieverId`). \n",
    "\n",
    "Execute the next code block under \"Step 5\" which will fetch the application ID and retriever ID respectively.\n",
    "\n",
    "## Step 5"
   ]
  },
  {
   "cell_type": "code",
   "execution_count": null,
   "metadata": {
    "tags": []
   },
   "outputs": [],
   "source": [
    "Q_BIZ_APP_ID = \"\"\n",
    "Q_RETRIEVER_ID = \"\"\n",
    "\n",
    "import boto3\n",
    "client = boto3.client('qbusiness')\n",
    "response_app = client.list_applications()\n",
    "\n",
    "for r in response_app[\"applications\"]:\n",
    "    if 'aim333-module-2' in r['displayName']:\n",
    "        Q_BIZ_APP_ID=r['applicationId']\n",
    "\n",
    "if Q_BIZ_APP_ID:\n",
    "    response_ret = client.list_retrievers(applicationId=Q_BIZ_APP_ID)\n",
    "    Q_RETRIEVER_ID = response_ret['retrievers'][0]['retrieverId']\n",
    "\n",
    "print(f\"Application ID is: {Q_BIZ_APP_ID}\\nRetriever ID is: {Q_RETRIEVER_ID}\")"
   ]
  },
  {
   "cell_type": "markdown",
   "metadata": {},
   "source": [
    "<div class=\"alert alert-block alert-info\"> \n",
    "    <b><i>(Optional)</i> View Application ID and Retriever ID in the Amazon Q Business console:</b> \n",
    "    <p>\n",
    "    You can also get the values for application ID and retriever ID from the Amazon Q Business console under the application named `aim333-module-2`. Follow these steps to view the values (this is informational only, if you have executed the code block above you may move on to the next step) -</p>\n",
    "\n",
    "<ol>\n",
    "    <li> Navigate to the Amazon Q Business console.</li>\n",
    "    <li> Click on \"Applications\" from the menu on the left.</li>\n",
    "    <li> Click on the application named `aim333-module-2`.</li>\n",
    "    <li> In the following screen, scroll down to the \"Application Settings\" section.</li>\n",
    "    <li> The application ID is found under the label \"Application ID\".</li>    \n",
    "</ol>\n",
    "<p>Next, to get the retriever ID</p>\n",
    "<ol>\n",
    "    <li> In the same screen, click on the next tab labeled \"Index\".</li>\n",
    "    <li> The retriever ID is found under the label \"Retriever ID\".</li>\n",
    "</ol>\n",
    "</div>"
   ]
  },
  {
   "cell_type": "markdown",
   "metadata": {},
   "source": [
    "Next we will run the `SearchRelevantContent` API."
   ]
  },
  {
   "cell_type": "code",
   "execution_count": null,
   "metadata": {
    "scrolled": true,
    "tags": []
   },
   "outputs": [],
   "source": [
    "import boto3\n",
    "import pprint\n",
    "qbiz = boto3.client(\"qbusiness\", region_name=\"us-east-1\", **credentials)\n",
    "\n",
    "\n",
    "search_params = {  'applicationId': Q_BIZ_APP_ID, \n",
    "    'contentSource': {\n",
    "        'retriever': { \n",
    "            'retrieverId': Q_RETRIEVER_ID \n",
    "            }\n",
    "    }, \n",
    "    'queryText': 'What are the reasons for keyboard failures?', \n",
    "    'maxResults': 5\n",
    "}\n",
    "\n",
    "def call_search_relevant_content(search_params):\n",
    "    try:\n",
    "        search_response = qbiz.search_relevant_content(**search_params)\n",
    "        pprint.pprint(search_response['relevantContent'])\n",
    "        return search_response['relevantContent']\n",
    "    except Exception as e:\n",
    "        print(e)\n",
    "\n",
    "relevant_content = call_search_relevant_content(search_params)"
   ]
  },
  {
   "cell_type": "code",
   "execution_count": null,
   "metadata": {
    "scrolled": true,
    "tags": []
   },
   "outputs": [],
   "source": [
    "full_context = \"\"\n",
    "\n",
    "for chunks in relevant_content:\n",
    "    full_context = full_context + chunks['content'] + \"\\n\"\n",
    "\n",
    "print(full_context)"
   ]
  },
  {
   "cell_type": "markdown",
   "metadata": {},
   "source": [
    "## Tool use with Amazon Nova\n",
    "\n",
    "Now that we have the full context and any relevant information related to the query, we will then orchestrate the Tool use with Amazon Q index integration following these high-level steps:\n",
    "\n",
    "1) **User Query** - User submits a query that may require both knowledge retrieval and tool execution\n",
    "2) **Tool Selection** - Amazon Nova analyzes both the user query and retrieved context to determine if a tool is necessary\n",
    "3) **Return Results** - Amazon Nova incorporates both the retrieved context and tool output into a comprehensive final response\n",
    "\n",
    "\n",
    "<div class=\"alert alert-block alert-warning\">\n",
    "<b>NOTE:</b> You must have completed the pre-requisites in the beginning of the workshop to enable <b>Amazon Nova Lite</b> model access in order to proceed with this section of the hands-on. Also note that we are specifically accessing Bedrock in `us-west-2` region. </div>\n",
    "\n",
    "## Step 6\n",
    "\n",
    "Here is an example of how you will define a tool:"
   ]
  },
  {
   "cell_type": "code",
   "execution_count": null,
   "metadata": {},
   "outputs": [],
   "source": [
    "# Define Nova ToolUse configuration\n",
    "tool_config = {\n",
    "    \"tools\": [\n",
    "        {\n",
    "            \"toolSpec\": {\n",
    "                \"name\": \"AnalyzeContent\",\n",
    "                \"description\": \"Analyzes retrieved content and provides insights.\",\n",
    "                \"inputSchema\": {\n",
    "                    \"json\": {\n",
    "                        \"type\": \"object\",\n",
    "                        \"properties\": {\n",
    "                            \"context\": {\"type\": \"string\"},\n",
    "                            \"query\": {\"type\": \"string\"}\n",
    "                        },\n",
    "                        \"required\": [\"context\", \"query\"]\n",
    "                    }\n",
    "                }\n",
    "            }\n",
    "        }\n",
    "    ]\n",
    "}"
   ]
  },
  {
   "cell_type": "markdown",
   "metadata": {},
   "source": [
    "Now that we've defined our tool, let's implement the code that calls Nova and handles any tool invocations. \n",
    "\n",
    "We will use the [Amazon Bedrock `Converse` API](https://docs.aws.amazon.com/bedrock/latest/userguide/tool-use-examples.html) to let the Nova model use a tool in a conversation. The Converse API example shows how to synchronously use the tool in our use case.\n",
    "\n",
    "Nova models follow this specific sequence when using tools:\n",
    "\n",
    "1. **Initial Response:** Model acknowledges your request and outlines its plan\n",
    "2. **Tool Execution:** Model uses the required tool(s)\n",
    "3. **Follow-up Response:** Model analyzes and explains tool results"
   ]
  },
  {
   "cell_type": "code",
   "execution_count": null,
   "metadata": {},
   "outputs": [],
   "source": [
    "query=\"What are the reasons for keyboard failures?\"\n",
    "\n",
    "# Create the initial message from the user input.\n",
    "initial_response = bedrock_client.converse(\n",
    "    modelId=\"us.amazon.nova-lite-v1:0\",\n",
    "    messages=[\n",
    "        {\"role\": \"user\", \"content\": [{\"text\":f\"Given the full context:{full_context}\\n\\nAnalyze the following content for: {query}\"}]}\n",
    "    ],\n",
    "    toolConfig=tool_config,\n",
    "    inferenceConfig={\"maxTokens\": 1000, \"temperature\": 0.7}\n",
    ")\n",
    "\n",
    "print(initial_response)"
   ]
  },
  {
   "cell_type": "markdown",
   "metadata": {},
   "source": [
    "Now, We will invoke the tool. When a tool is invoked, its output is seamlessly passed back to Nova as a `toolResult`, allowing the model to incorporate this information into its final response."
   ]
  },
  {
   "cell_type": "code",
   "execution_count": null,
   "metadata": {},
   "outputs": [],
   "source": [
    "tool_use = None\n",
    "for content_block in initial_response['output']['message']['content']:\n",
    "    if 'toolUse' in content_block:\n",
    "        tool_use = content_block['toolUse']\n",
    "        break\n",
    "\n",
    "# Tool use requested. Call the tool and send the result to the model.\n",
    "if tool_use:\n",
    "    print(\"Tool use requested with ID:\", tool_use['toolUseId'])\n",
    "    \n",
    "    # Provide tool results back to the model\n",
    "    follow_up_response = bedrock_client.converse(\n",
    "        modelId=\"us.amazon.nova-lite-v1:0\",\n",
    "        messages=[\n",
    "            {\"role\": \"user\", \"content\": [{\"text\": f\"Analyze the following content for: {query}.\"}]},\n",
    "            {\"role\": \"assistant\", \"content\": initial_response['output']['message']['content']},\n",
    "            {\n",
    "                \"role\": \"user\",\n",
    "                \"content\": [\n",
    "                    {\n",
    "                        \"toolResult\": {\n",
    "                            \"toolUseId\": tool_use['toolUseId'],\n",
    "                            \"content\": [{\"text\": json.dumps({\n",
    "                                \"context\": full_context,\n",
    "                                \"query\": query\n",
    "                            })}]\n",
    "                        }\n",
    "                    }\n",
    "                ]\n",
    "            }\n",
    "        ],\n",
    "        toolConfig=tool_config,\n",
    "        inferenceConfig={\"maxTokens\": 1000, \"temperature\": 0.7}\n",
    "    )\n",
    "\n",
    "    final_analysis = follow_up_response['output']['message']['content'][0]['text']\n",
    "else:\n",
    "    # If no tool is triggered, use the initial_response\n",
    "    final_analysis = initial_response['output']['message']['content'][0]['text']\n",
    "\n",
    "print(\"Nova Analysis:\\n\", final_analysis)"
   ]
  },
  {
   "cell_type": "markdown",
   "metadata": {},
   "source": [
    "## Sending Analysis Results via Amazon SNS\n",
    "\n",
    "We'll set up an Amazon SNS topic to deliver Nova's analysis to users. This ensures immediate notification of results through email.\n",
    "\n",
    "## Step 7"
   ]
  },
  {
   "cell_type": "code",
   "execution_count": null,
   "metadata": {},
   "outputs": [],
   "source": [
    "#Set Up SNS Topic and Subscription\n",
    "sns_client = boto3.client('sns')\n",
    "response = sns_client.create_topic(Name=\"ticketanalyzer\")\n",
    "topic_arn = response['TopicArn']\n",
    "print(f\"SNS Topic created successfully: {topic_arn}\")"
   ]
  },
  {
   "cell_type": "code",
   "execution_count": null,
   "metadata": {},
   "outputs": [],
   "source": [
    "email = \"<YOUR EMAIL ADDRESS>\"\n",
    "response = sns_client.subscribe(\n",
    "            TopicArn=topic_arn,\n",
    "            Protocol='email',\n",
    "            Endpoint=email\n",
    "        )\n",
    "subscription_arn = response['SubscriptionArn']\n",
    "print(f\"Subscription initiated: {subscription_arn}\")"
   ]
  },
  {
   "cell_type": "code",
   "execution_count": null,
   "metadata": {},
   "outputs": [],
   "source": [
    "# Send the notification\n",
    "email_subject = \"Ticket analysis by AnyCompany AI\"\n",
    "\n",
    "response = sns_client.publish(\n",
    "    TopicArn=topic_arn,\n",
    "    Message=final_analysis,\n",
    "    Subject=email_subject,\n",
    ")\n",
    "message_id = response['MessageId']\n",
    "print(f\"Formatted email sent successfully! Message ID: {message_id}\")"
   ]
  },
  {
   "cell_type": "markdown",
   "metadata": {},
   "source": [
    "# Conclusion\n",
    "---\n",
    "\n",
    "In this module, we've explored the powerful integration of Amazon Q Business's cross-app index with Amazon Nova's tool use capabilities. We demonstrated how to harness the `SearchRelevantContent` API's results to create sophisticated tools with Amazon Nova, combining function calling with intelligent analysis based on user queries. This notebook template provides a comprehensive foundation that you can build upon—whether by adding custom tools, enhancing error handling, or adapting the analysis patterns to your specific needs. Thank you for participating in this workshop! We hope these insights help you build more powerful and context-aware applications using Amazon Q index and Amazon Nova."
   ]
  },
  {
   "cell_type": "code",
   "execution_count": null,
   "metadata": {},
   "outputs": [],
   "source": []
  }
 ],
 "metadata": {
  "availableInstances": [
   {
    "_defaultOrder": 0,
    "_isFastLaunch": true,
    "category": "General purpose",
    "gpuNum": 0,
    "hideHardwareSpecs": false,
    "memoryGiB": 4,
    "name": "ml.t3.medium",
    "vcpuNum": 2
   },
   {
    "_defaultOrder": 1,
    "_isFastLaunch": false,
    "category": "General purpose",
    "gpuNum": 0,
    "hideHardwareSpecs": false,
    "memoryGiB": 8,
    "name": "ml.t3.large",
    "vcpuNum": 2
   },
   {
    "_defaultOrder": 2,
    "_isFastLaunch": false,
    "category": "General purpose",
    "gpuNum": 0,
    "hideHardwareSpecs": false,
    "memoryGiB": 16,
    "name": "ml.t3.xlarge",
    "vcpuNum": 4
   },
   {
    "_defaultOrder": 3,
    "_isFastLaunch": false,
    "category": "General purpose",
    "gpuNum": 0,
    "hideHardwareSpecs": false,
    "memoryGiB": 32,
    "name": "ml.t3.2xlarge",
    "vcpuNum": 8
   },
   {
    "_defaultOrder": 4,
    "_isFastLaunch": true,
    "category": "General purpose",
    "gpuNum": 0,
    "hideHardwareSpecs": false,
    "memoryGiB": 8,
    "name": "ml.m5.large",
    "vcpuNum": 2
   },
   {
    "_defaultOrder": 5,
    "_isFastLaunch": false,
    "category": "General purpose",
    "gpuNum": 0,
    "hideHardwareSpecs": false,
    "memoryGiB": 16,
    "name": "ml.m5.xlarge",
    "vcpuNum": 4
   },
   {
    "_defaultOrder": 6,
    "_isFastLaunch": false,
    "category": "General purpose",
    "gpuNum": 0,
    "hideHardwareSpecs": false,
    "memoryGiB": 32,
    "name": "ml.m5.2xlarge",
    "vcpuNum": 8
   },
   {
    "_defaultOrder": 7,
    "_isFastLaunch": false,
    "category": "General purpose",
    "gpuNum": 0,
    "hideHardwareSpecs": false,
    "memoryGiB": 64,
    "name": "ml.m5.4xlarge",
    "vcpuNum": 16
   },
   {
    "_defaultOrder": 8,
    "_isFastLaunch": false,
    "category": "General purpose",
    "gpuNum": 0,
    "hideHardwareSpecs": false,
    "memoryGiB": 128,
    "name": "ml.m5.8xlarge",
    "vcpuNum": 32
   },
   {
    "_defaultOrder": 9,
    "_isFastLaunch": false,
    "category": "General purpose",
    "gpuNum": 0,
    "hideHardwareSpecs": false,
    "memoryGiB": 192,
    "name": "ml.m5.12xlarge",
    "vcpuNum": 48
   },
   {
    "_defaultOrder": 10,
    "_isFastLaunch": false,
    "category": "General purpose",
    "gpuNum": 0,
    "hideHardwareSpecs": false,
    "memoryGiB": 256,
    "name": "ml.m5.16xlarge",
    "vcpuNum": 64
   },
   {
    "_defaultOrder": 11,
    "_isFastLaunch": false,
    "category": "General purpose",
    "gpuNum": 0,
    "hideHardwareSpecs": false,
    "memoryGiB": 384,
    "name": "ml.m5.24xlarge",
    "vcpuNum": 96
   },
   {
    "_defaultOrder": 12,
    "_isFastLaunch": false,
    "category": "General purpose",
    "gpuNum": 0,
    "hideHardwareSpecs": false,
    "memoryGiB": 8,
    "name": "ml.m5d.large",
    "vcpuNum": 2
   },
   {
    "_defaultOrder": 13,
    "_isFastLaunch": false,
    "category": "General purpose",
    "gpuNum": 0,
    "hideHardwareSpecs": false,
    "memoryGiB": 16,
    "name": "ml.m5d.xlarge",
    "vcpuNum": 4
   },
   {
    "_defaultOrder": 14,
    "_isFastLaunch": false,
    "category": "General purpose",
    "gpuNum": 0,
    "hideHardwareSpecs": false,
    "memoryGiB": 32,
    "name": "ml.m5d.2xlarge",
    "vcpuNum": 8
   },
   {
    "_defaultOrder": 15,
    "_isFastLaunch": false,
    "category": "General purpose",
    "gpuNum": 0,
    "hideHardwareSpecs": false,
    "memoryGiB": 64,
    "name": "ml.m5d.4xlarge",
    "vcpuNum": 16
   },
   {
    "_defaultOrder": 16,
    "_isFastLaunch": false,
    "category": "General purpose",
    "gpuNum": 0,
    "hideHardwareSpecs": false,
    "memoryGiB": 128,
    "name": "ml.m5d.8xlarge",
    "vcpuNum": 32
   },
   {
    "_defaultOrder": 17,
    "_isFastLaunch": false,
    "category": "General purpose",
    "gpuNum": 0,
    "hideHardwareSpecs": false,
    "memoryGiB": 192,
    "name": "ml.m5d.12xlarge",
    "vcpuNum": 48
   },
   {
    "_defaultOrder": 18,
    "_isFastLaunch": false,
    "category": "General purpose",
    "gpuNum": 0,
    "hideHardwareSpecs": false,
    "memoryGiB": 256,
    "name": "ml.m5d.16xlarge",
    "vcpuNum": 64
   },
   {
    "_defaultOrder": 19,
    "_isFastLaunch": false,
    "category": "General purpose",
    "gpuNum": 0,
    "hideHardwareSpecs": false,
    "memoryGiB": 384,
    "name": "ml.m5d.24xlarge",
    "vcpuNum": 96
   },
   {
    "_defaultOrder": 20,
    "_isFastLaunch": false,
    "category": "General purpose",
    "gpuNum": 0,
    "hideHardwareSpecs": true,
    "memoryGiB": 0,
    "name": "ml.geospatial.interactive",
    "supportedImageNames": [
     "sagemaker-geospatial-v1-0"
    ],
    "vcpuNum": 0
   },
   {
    "_defaultOrder": 21,
    "_isFastLaunch": true,
    "category": "Compute optimized",
    "gpuNum": 0,
    "hideHardwareSpecs": false,
    "memoryGiB": 4,
    "name": "ml.c5.large",
    "vcpuNum": 2
   },
   {
    "_defaultOrder": 22,
    "_isFastLaunch": false,
    "category": "Compute optimized",
    "gpuNum": 0,
    "hideHardwareSpecs": false,
    "memoryGiB": 8,
    "name": "ml.c5.xlarge",
    "vcpuNum": 4
   },
   {
    "_defaultOrder": 23,
    "_isFastLaunch": false,
    "category": "Compute optimized",
    "gpuNum": 0,
    "hideHardwareSpecs": false,
    "memoryGiB": 16,
    "name": "ml.c5.2xlarge",
    "vcpuNum": 8
   },
   {
    "_defaultOrder": 24,
    "_isFastLaunch": false,
    "category": "Compute optimized",
    "gpuNum": 0,
    "hideHardwareSpecs": false,
    "memoryGiB": 32,
    "name": "ml.c5.4xlarge",
    "vcpuNum": 16
   },
   {
    "_defaultOrder": 25,
    "_isFastLaunch": false,
    "category": "Compute optimized",
    "gpuNum": 0,
    "hideHardwareSpecs": false,
    "memoryGiB": 72,
    "name": "ml.c5.9xlarge",
    "vcpuNum": 36
   },
   {
    "_defaultOrder": 26,
    "_isFastLaunch": false,
    "category": "Compute optimized",
    "gpuNum": 0,
    "hideHardwareSpecs": false,
    "memoryGiB": 96,
    "name": "ml.c5.12xlarge",
    "vcpuNum": 48
   },
   {
    "_defaultOrder": 27,
    "_isFastLaunch": false,
    "category": "Compute optimized",
    "gpuNum": 0,
    "hideHardwareSpecs": false,
    "memoryGiB": 144,
    "name": "ml.c5.18xlarge",
    "vcpuNum": 72
   },
   {
    "_defaultOrder": 28,
    "_isFastLaunch": false,
    "category": "Compute optimized",
    "gpuNum": 0,
    "hideHardwareSpecs": false,
    "memoryGiB": 192,
    "name": "ml.c5.24xlarge",
    "vcpuNum": 96
   },
   {
    "_defaultOrder": 29,
    "_isFastLaunch": true,
    "category": "Accelerated computing",
    "gpuNum": 1,
    "hideHardwareSpecs": false,
    "memoryGiB": 16,
    "name": "ml.g4dn.xlarge",
    "vcpuNum": 4
   },
   {
    "_defaultOrder": 30,
    "_isFastLaunch": false,
    "category": "Accelerated computing",
    "gpuNum": 1,
    "hideHardwareSpecs": false,
    "memoryGiB": 32,
    "name": "ml.g4dn.2xlarge",
    "vcpuNum": 8
   },
   {
    "_defaultOrder": 31,
    "_isFastLaunch": false,
    "category": "Accelerated computing",
    "gpuNum": 1,
    "hideHardwareSpecs": false,
    "memoryGiB": 64,
    "name": "ml.g4dn.4xlarge",
    "vcpuNum": 16
   },
   {
    "_defaultOrder": 32,
    "_isFastLaunch": false,
    "category": "Accelerated computing",
    "gpuNum": 1,
    "hideHardwareSpecs": false,
    "memoryGiB": 128,
    "name": "ml.g4dn.8xlarge",
    "vcpuNum": 32
   },
   {
    "_defaultOrder": 33,
    "_isFastLaunch": false,
    "category": "Accelerated computing",
    "gpuNum": 4,
    "hideHardwareSpecs": false,
    "memoryGiB": 192,
    "name": "ml.g4dn.12xlarge",
    "vcpuNum": 48
   },
   {
    "_defaultOrder": 34,
    "_isFastLaunch": false,
    "category": "Accelerated computing",
    "gpuNum": 1,
    "hideHardwareSpecs": false,
    "memoryGiB": 256,
    "name": "ml.g4dn.16xlarge",
    "vcpuNum": 64
   },
   {
    "_defaultOrder": 35,
    "_isFastLaunch": false,
    "category": "Accelerated computing",
    "gpuNum": 1,
    "hideHardwareSpecs": false,
    "memoryGiB": 61,
    "name": "ml.p3.2xlarge",
    "vcpuNum": 8
   },
   {
    "_defaultOrder": 36,
    "_isFastLaunch": false,
    "category": "Accelerated computing",
    "gpuNum": 4,
    "hideHardwareSpecs": false,
    "memoryGiB": 244,
    "name": "ml.p3.8xlarge",
    "vcpuNum": 32
   },
   {
    "_defaultOrder": 37,
    "_isFastLaunch": false,
    "category": "Accelerated computing",
    "gpuNum": 8,
    "hideHardwareSpecs": false,
    "memoryGiB": 488,
    "name": "ml.p3.16xlarge",
    "vcpuNum": 64
   },
   {
    "_defaultOrder": 38,
    "_isFastLaunch": false,
    "category": "Accelerated computing",
    "gpuNum": 8,
    "hideHardwareSpecs": false,
    "memoryGiB": 768,
    "name": "ml.p3dn.24xlarge",
    "vcpuNum": 96
   },
   {
    "_defaultOrder": 39,
    "_isFastLaunch": false,
    "category": "Memory Optimized",
    "gpuNum": 0,
    "hideHardwareSpecs": false,
    "memoryGiB": 16,
    "name": "ml.r5.large",
    "vcpuNum": 2
   },
   {
    "_defaultOrder": 40,
    "_isFastLaunch": false,
    "category": "Memory Optimized",
    "gpuNum": 0,
    "hideHardwareSpecs": false,
    "memoryGiB": 32,
    "name": "ml.r5.xlarge",
    "vcpuNum": 4
   },
   {
    "_defaultOrder": 41,
    "_isFastLaunch": false,
    "category": "Memory Optimized",
    "gpuNum": 0,
    "hideHardwareSpecs": false,
    "memoryGiB": 64,
    "name": "ml.r5.2xlarge",
    "vcpuNum": 8
   },
   {
    "_defaultOrder": 42,
    "_isFastLaunch": false,
    "category": "Memory Optimized",
    "gpuNum": 0,
    "hideHardwareSpecs": false,
    "memoryGiB": 128,
    "name": "ml.r5.4xlarge",
    "vcpuNum": 16
   },
   {
    "_defaultOrder": 43,
    "_isFastLaunch": false,
    "category": "Memory Optimized",
    "gpuNum": 0,
    "hideHardwareSpecs": false,
    "memoryGiB": 256,
    "name": "ml.r5.8xlarge",
    "vcpuNum": 32
   },
   {
    "_defaultOrder": 44,
    "_isFastLaunch": false,
    "category": "Memory Optimized",
    "gpuNum": 0,
    "hideHardwareSpecs": false,
    "memoryGiB": 384,
    "name": "ml.r5.12xlarge",
    "vcpuNum": 48
   },
   {
    "_defaultOrder": 45,
    "_isFastLaunch": false,
    "category": "Memory Optimized",
    "gpuNum": 0,
    "hideHardwareSpecs": false,
    "memoryGiB": 512,
    "name": "ml.r5.16xlarge",
    "vcpuNum": 64
   },
   {
    "_defaultOrder": 46,
    "_isFastLaunch": false,
    "category": "Memory Optimized",
    "gpuNum": 0,
    "hideHardwareSpecs": false,
    "memoryGiB": 768,
    "name": "ml.r5.24xlarge",
    "vcpuNum": 96
   },
   {
    "_defaultOrder": 47,
    "_isFastLaunch": false,
    "category": "Accelerated computing",
    "gpuNum": 1,
    "hideHardwareSpecs": false,
    "memoryGiB": 16,
    "name": "ml.g5.xlarge",
    "vcpuNum": 4
   },
   {
    "_defaultOrder": 48,
    "_isFastLaunch": false,
    "category": "Accelerated computing",
    "gpuNum": 1,
    "hideHardwareSpecs": false,
    "memoryGiB": 32,
    "name": "ml.g5.2xlarge",
    "vcpuNum": 8
   },
   {
    "_defaultOrder": 49,
    "_isFastLaunch": false,
    "category": "Accelerated computing",
    "gpuNum": 1,
    "hideHardwareSpecs": false,
    "memoryGiB": 64,
    "name": "ml.g5.4xlarge",
    "vcpuNum": 16
   },
   {
    "_defaultOrder": 50,
    "_isFastLaunch": false,
    "category": "Accelerated computing",
    "gpuNum": 1,
    "hideHardwareSpecs": false,
    "memoryGiB": 128,
    "name": "ml.g5.8xlarge",
    "vcpuNum": 32
   },
   {
    "_defaultOrder": 51,
    "_isFastLaunch": false,
    "category": "Accelerated computing",
    "gpuNum": 1,
    "hideHardwareSpecs": false,
    "memoryGiB": 256,
    "name": "ml.g5.16xlarge",
    "vcpuNum": 64
   },
   {
    "_defaultOrder": 52,
    "_isFastLaunch": false,
    "category": "Accelerated computing",
    "gpuNum": 4,
    "hideHardwareSpecs": false,
    "memoryGiB": 192,
    "name": "ml.g5.12xlarge",
    "vcpuNum": 48
   },
   {
    "_defaultOrder": 53,
    "_isFastLaunch": false,
    "category": "Accelerated computing",
    "gpuNum": 4,
    "hideHardwareSpecs": false,
    "memoryGiB": 384,
    "name": "ml.g5.24xlarge",
    "vcpuNum": 96
   },
   {
    "_defaultOrder": 54,
    "_isFastLaunch": false,
    "category": "Accelerated computing",
    "gpuNum": 8,
    "hideHardwareSpecs": false,
    "memoryGiB": 768,
    "name": "ml.g5.48xlarge",
    "vcpuNum": 192
   },
   {
    "_defaultOrder": 55,
    "_isFastLaunch": false,
    "category": "Accelerated computing",
    "gpuNum": 8,
    "hideHardwareSpecs": false,
    "memoryGiB": 1152,
    "name": "ml.p4d.24xlarge",
    "vcpuNum": 96
   },
   {
    "_defaultOrder": 56,
    "_isFastLaunch": false,
    "category": "Accelerated computing",
    "gpuNum": 8,
    "hideHardwareSpecs": false,
    "memoryGiB": 1152,
    "name": "ml.p4de.24xlarge",
    "vcpuNum": 96
   },
   {
    "_defaultOrder": 57,
    "_isFastLaunch": false,
    "category": "Accelerated computing",
    "gpuNum": 0,
    "hideHardwareSpecs": false,
    "memoryGiB": 32,
    "name": "ml.trn1.2xlarge",
    "vcpuNum": 8
   },
   {
    "_defaultOrder": 58,
    "_isFastLaunch": false,
    "category": "Accelerated computing",
    "gpuNum": 0,
    "hideHardwareSpecs": false,
    "memoryGiB": 512,
    "name": "ml.trn1.32xlarge",
    "vcpuNum": 128
   },
   {
    "_defaultOrder": 59,
    "_isFastLaunch": false,
    "category": "Accelerated computing",
    "gpuNum": 0,
    "hideHardwareSpecs": false,
    "memoryGiB": 512,
    "name": "ml.trn1n.32xlarge",
    "vcpuNum": 128
   }
  ],
  "instance_type": "ml.t3.medium",
  "kernelspec": {
   "display_name": "Python 3 (ipykernel)",
   "language": "python",
   "name": "python3"
  },
  "language_info": {
   "codemirror_mode": {
    "name": "ipython",
    "version": 3
   },
   "file_extension": ".py",
   "mimetype": "text/x-python",
   "name": "python",
   "nbconvert_exporter": "python",
   "pygments_lexer": "ipython3",
   "version": "3.11.8"
  }
 },
 "nbformat": 4,
 "nbformat_minor": 4
}
